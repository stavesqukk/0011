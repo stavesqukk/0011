{
  "nbformat": 4,
  "nbformat_minor": 0,
  "metadata": {
    "colab": {
      "provenance": [],
      "authorship_tag": "ABX9TyP28N8hAoVU6OpCjv2WFsdz",
      "include_colab_link": true
    },
    "kernelspec": {
      "name": "python3",
      "display_name": "Python 3"
    },
    "language_info": {
      "name": "python"
    }
  },
  "cells": [
    {
      "cell_type": "markdown",
      "metadata": {
        "id": "view-in-github",
        "colab_type": "text"
      },
      "source": [
        "<a href=\"https://colab.research.google.com/github/stavesqukk/0011/blob/master/LAB_7_1ipynb.ipynb\" target=\"_parent\"><img src=\"https://colab.research.google.com/assets/colab-badge.svg\" alt=\"Open In Colab\"/></a>"
      ]
    },
    {
      "cell_type": "code",
      "execution_count": null,
      "metadata": {
        "id": "MefsMlVpJWWX"
      },
      "outputs": [],
      "source": [
        "import numpy as np\n"
      ]
    },
    {
      "cell_type": "code",
      "source": [
        "a = np.arange(15).reshape(3, 5)\n",
        "a"
      ],
      "metadata": {
        "colab": {
          "base_uri": "https://localhost:8080/"
        },
        "id": "q-H8e3fdJcH2",
        "outputId": "249ff25b-0c58-4e19-9c96-e2dae9e1af72"
      },
      "execution_count": null,
      "outputs": [
        {
          "output_type": "execute_result",
          "data": {
            "text/plain": [
              "array([[ 0,  1,  2,  3,  4],\n",
              "       [ 5,  6,  7,  8,  9],\n",
              "       [10, 11, 12, 13, 14]])"
            ]
          },
          "metadata": {},
          "execution_count": 2
        }
      ]
    },
    {
      "cell_type": "code",
      "source": [
        "a.shape"
      ],
      "metadata": {
        "colab": {
          "base_uri": "https://localhost:8080/"
        },
        "id": "JH0nolsAJgGa",
        "outputId": "a46ec122-6864-4c07-f52e-c37233b18b97"
      },
      "execution_count": null,
      "outputs": [
        {
          "output_type": "execute_result",
          "data": {
            "text/plain": [
              "(3, 5)"
            ]
          },
          "metadata": {},
          "execution_count": 3
        }
      ]
    },
    {
      "cell_type": "code",
      "source": [
        "a.ndim"
      ],
      "metadata": {
        "colab": {
          "base_uri": "https://localhost:8080/"
        },
        "id": "ykzc-usQJhoT",
        "outputId": "43737999-1f68-4d4a-84b8-2bc7df2b058d"
      },
      "execution_count": null,
      "outputs": [
        {
          "output_type": "execute_result",
          "data": {
            "text/plain": [
              "2"
            ]
          },
          "metadata": {},
          "execution_count": 4
        }
      ]
    },
    {
      "cell_type": "code",
      "source": [
        "a.dtype.name"
      ],
      "metadata": {
        "colab": {
          "base_uri": "https://localhost:8080/",
          "height": 36
        },
        "id": "C1YbqtC5Ji1R",
        "outputId": "9c5959c5-a8ee-4e63-a5e5-263a4fb57e63"
      },
      "execution_count": null,
      "outputs": [
        {
          "output_type": "execute_result",
          "data": {
            "text/plain": [
              "'int64'"
            ],
            "application/vnd.google.colaboratory.intrinsic+json": {
              "type": "string"
            }
          },
          "metadata": {},
          "execution_count": 5
        }
      ]
    },
    {
      "cell_type": "code",
      "source": [
        "a.itemsize"
      ],
      "metadata": {
        "colab": {
          "base_uri": "https://localhost:8080/"
        },
        "id": "TnrSoo91Jkh0",
        "outputId": "504847b6-d1ae-4b91-995e-4aaa7cfe22f1"
      },
      "execution_count": null,
      "outputs": [
        {
          "output_type": "execute_result",
          "data": {
            "text/plain": [
              "8"
            ]
          },
          "metadata": {},
          "execution_count": 6
        }
      ]
    },
    {
      "cell_type": "code",
      "source": [
        "a.size"
      ],
      "metadata": {
        "colab": {
          "base_uri": "https://localhost:8080/"
        },
        "id": "XHLqrByrJl2D",
        "outputId": "66900265-d904-4ab6-b227-eeabd9db1bca"
      },
      "execution_count": null,
      "outputs": [
        {
          "output_type": "execute_result",
          "data": {
            "text/plain": [
              "15"
            ]
          },
          "metadata": {},
          "execution_count": 7
        }
      ]
    },
    {
      "cell_type": "code",
      "source": [
        "type(a)"
      ],
      "metadata": {
        "colab": {
          "base_uri": "https://localhost:8080/"
        },
        "id": "AMYUC0MHJnF_",
        "outputId": "e2640dd6-acfc-4f20-a41a-05beaee334d2"
      },
      "execution_count": null,
      "outputs": [
        {
          "output_type": "execute_result",
          "data": {
            "text/plain": [
              "numpy.ndarray"
            ]
          },
          "metadata": {},
          "execution_count": 8
        }
      ]
    },
    {
      "cell_type": "code",
      "source": [
        "b = np.array([6, 7, 8])"
      ],
      "metadata": {
        "id": "odNjYL8JJoW9"
      },
      "execution_count": null,
      "outputs": []
    },
    {
      "cell_type": "code",
      "source": [
        "b"
      ],
      "metadata": {
        "colab": {
          "base_uri": "https://localhost:8080/"
        },
        "id": "XxixCg6yJpwM",
        "outputId": "c6ddde08-7ffa-4e52-8be8-e2edbf965491"
      },
      "execution_count": null,
      "outputs": [
        {
          "output_type": "execute_result",
          "data": {
            "text/plain": [
              "array([6, 7, 8])"
            ]
          },
          "metadata": {},
          "execution_count": 10
        }
      ]
    },
    {
      "cell_type": "code",
      "source": [
        "type(b)"
      ],
      "metadata": {
        "colab": {
          "base_uri": "https://localhost:8080/"
        },
        "id": "P-zxaZwIJqzk",
        "outputId": "ead3455e-15c1-49c8-a5d8-cd938b7c1d52"
      },
      "execution_count": null,
      "outputs": [
        {
          "output_type": "execute_result",
          "data": {
            "text/plain": [
              "numpy.ndarray"
            ]
          },
          "metadata": {},
          "execution_count": 11
        }
      ]
    },
    {
      "cell_type": "code",
      "source": [
        "m = np.array([2, 3, 4])\n",
        "m"
      ],
      "metadata": {
        "colab": {
          "base_uri": "https://localhost:8080/"
        },
        "id": "0mseLNcHJrWb",
        "outputId": "ec7db274-e3a5-40da-a4f2-8eb71df460af"
      },
      "execution_count": null,
      "outputs": [
        {
          "output_type": "execute_result",
          "data": {
            "text/plain": [
              "array([2, 3, 4])"
            ]
          },
          "metadata": {},
          "execution_count": 12
        }
      ]
    },
    {
      "cell_type": "code",
      "source": [
        "m.dtype"
      ],
      "metadata": {
        "colab": {
          "base_uri": "https://localhost:8080/"
        },
        "id": "OIpRC1yuJyxP",
        "outputId": "97581e9d-76e0-4b95-fae4-ef6cd5d57383"
      },
      "execution_count": null,
      "outputs": [
        {
          "output_type": "execute_result",
          "data": {
            "text/plain": [
              "dtype('int64')"
            ]
          },
          "metadata": {},
          "execution_count": 13
        }
      ]
    },
    {
      "cell_type": "code",
      "source": [
        "n = np.array([1.2, 3.5, 5.1])"
      ],
      "metadata": {
        "id": "4Vs_rr7HJ0oV"
      },
      "execution_count": null,
      "outputs": []
    },
    {
      "cell_type": "code",
      "source": [
        "n.dtype"
      ],
      "metadata": {
        "colab": {
          "base_uri": "https://localhost:8080/"
        },
        "id": "oL9PyFdiJ2X4",
        "outputId": "9c4a5433-bc6c-4d42-98d7-67450665b171"
      },
      "execution_count": null,
      "outputs": [
        {
          "output_type": "execute_result",
          "data": {
            "text/plain": [
              "dtype('float64')"
            ]
          },
          "metadata": {},
          "execution_count": 15
        }
      ]
    },
    {
      "cell_type": "code",
      "source": [
        "o = np.array(1, 2, 3, 4)"
      ],
      "metadata": {
        "colab": {
          "base_uri": "https://localhost:8080/",
          "height": 141
        },
        "id": "-xWRvfEzJ3RF",
        "outputId": "db57b170-15be-40dc-c335-c96673e33372"
      },
      "execution_count": null,
      "outputs": [
        {
          "output_type": "error",
          "ename": "TypeError",
          "evalue": "array() takes from 1 to 2 positional arguments but 4 were given",
          "traceback": [
            "\u001b[0;31m---------------------------------------------------------------------------\u001b[0m",
            "\u001b[0;31mTypeError\u001b[0m                                 Traceback (most recent call last)",
            "\u001b[0;32m/tmp/ipython-input-2529743675.py\u001b[0m in \u001b[0;36m<cell line: 0>\u001b[0;34m()\u001b[0m\n\u001b[0;32m----> 1\u001b[0;31m \u001b[0mo\u001b[0m \u001b[0;34m=\u001b[0m \u001b[0mnp\u001b[0m\u001b[0;34m.\u001b[0m\u001b[0marray\u001b[0m\u001b[0;34m(\u001b[0m\u001b[0;36m1\u001b[0m\u001b[0;34m,\u001b[0m \u001b[0;36m2\u001b[0m\u001b[0;34m,\u001b[0m \u001b[0;36m3\u001b[0m\u001b[0;34m,\u001b[0m \u001b[0;36m4\u001b[0m\u001b[0;34m)\u001b[0m\u001b[0;34m\u001b[0m\u001b[0;34m\u001b[0m\u001b[0m\n\u001b[0m",
            "\u001b[0;31mTypeError\u001b[0m: array() takes from 1 to 2 positional arguments but 4 were given"
          ]
        }
      ]
    },
    {
      "cell_type": "code",
      "source": [
        "o = np.array([1, 2, 3, 4])"
      ],
      "metadata": {
        "id": "pFGvZS6JKA40"
      },
      "execution_count": null,
      "outputs": []
    },
    {
      "cell_type": "code",
      "source": [
        "b = np.array([(1.5, 2, 3),\n",
        " (4, 5, 6)])\n",
        "b"
      ],
      "metadata": {
        "colab": {
          "base_uri": "https://localhost:8080/"
        },
        "id": "oCUz-BvLKCO8",
        "outputId": "c79f02b8-8f6d-4553-a624-ad22e29d583b"
      },
      "execution_count": null,
      "outputs": [
        {
          "output_type": "execute_result",
          "data": {
            "text/plain": [
              "array([[1.5, 2. , 3. ],\n",
              "       [4. , 5. , 6. ]])"
            ]
          },
          "metadata": {},
          "execution_count": 20
        }
      ]
    },
    {
      "cell_type": "code",
      "source": [
        "c = np.array([[1, 2],\n",
        " [3, 4]],\n",
        "             dtype=complex)\n",
        "c"
      ],
      "metadata": {
        "colab": {
          "base_uri": "https://localhost:8080/"
        },
        "id": "u6MinG1uKGO8",
        "outputId": "317788c9-6936-47ee-9443-a926c101425a"
      },
      "execution_count": null,
      "outputs": [
        {
          "output_type": "execute_result",
          "data": {
            "text/plain": [
              "array([[1.+0.j, 2.+0.j],\n",
              "       [3.+0.j, 4.+0.j]])"
            ]
          },
          "metadata": {},
          "execution_count": 21
        }
      ]
    },
    {
      "cell_type": "code",
      "source": [
        "np.zeros((3, 4))"
      ],
      "metadata": {
        "colab": {
          "base_uri": "https://localhost:8080/"
        },
        "id": "B1FD6tMFKIjf",
        "outputId": "2585b4d6-5dc2-4a50-b497-cfc74337efab"
      },
      "execution_count": null,
      "outputs": [
        {
          "output_type": "execute_result",
          "data": {
            "text/plain": [
              "array([[0., 0., 0., 0.],\n",
              "       [0., 0., 0., 0.],\n",
              "       [0., 0., 0., 0.]])"
            ]
          },
          "metadata": {},
          "execution_count": 22
        }
      ]
    },
    {
      "cell_type": "code",
      "source": [
        "np.ones((2, 3, 4), dtype=np.int16)"
      ],
      "metadata": {
        "colab": {
          "base_uri": "https://localhost:8080/"
        },
        "id": "zth4bQiMKTUf",
        "outputId": "83c80434-111f-43f7-b493-c9ddfd3ba798"
      },
      "execution_count": null,
      "outputs": [
        {
          "output_type": "execute_result",
          "data": {
            "text/plain": [
              "array([[[1, 1, 1, 1],\n",
              "        [1, 1, 1, 1],\n",
              "        [1, 1, 1, 1]],\n",
              "\n",
              "       [[1, 1, 1, 1],\n",
              "        [1, 1, 1, 1],\n",
              "        [1, 1, 1, 1]]], dtype=int16)"
            ]
          },
          "metadata": {},
          "execution_count": 23
        }
      ]
    },
    {
      "cell_type": "code",
      "source": [
        "np.empty((2, 3))"
      ],
      "metadata": {
        "colab": {
          "base_uri": "https://localhost:8080/"
        },
        "id": "rKJlsuYrKYVh",
        "outputId": "4ad4892b-8624-4424-973f-7a7a13e7a98e"
      },
      "execution_count": null,
      "outputs": [
        {
          "output_type": "execute_result",
          "data": {
            "text/plain": [
              "array([[1.5, 2. , 3. ],\n",
              "       [4. , 5. , 6. ]])"
            ]
          },
          "metadata": {},
          "execution_count": 24
        }
      ]
    },
    {
      "cell_type": "code",
      "source": [
        "np.arange(10, 30, 5)"
      ],
      "metadata": {
        "colab": {
          "base_uri": "https://localhost:8080/"
        },
        "id": "NjN4lretKpek",
        "outputId": "41bd8694-8f6f-4bfd-dc18-8f18020c3f87"
      },
      "execution_count": null,
      "outputs": [
        {
          "output_type": "execute_result",
          "data": {
            "text/plain": [
              "array([10, 15, 20, 25])"
            ]
          },
          "metadata": {},
          "execution_count": 25
        }
      ]
    },
    {
      "cell_type": "code",
      "source": [
        "np.arange(0, 2, 0.3)  # it accepts float arguments"
      ],
      "metadata": {
        "colab": {
          "base_uri": "https://localhost:8080/"
        },
        "id": "y2HjytbSK-mk",
        "outputId": "57f2c80c-4844-4534-d35b-892d9c8cbc1f"
      },
      "execution_count": null,
      "outputs": [
        {
          "output_type": "execute_result",
          "data": {
            "text/plain": [
              "array([0. , 0.3, 0.6, 0.9, 1.2, 1.5, 1.8])"
            ]
          },
          "metadata": {},
          "execution_count": 26
        }
      ]
    },
    {
      "cell_type": "code",
      "source": [
        "from numpy import pi"
      ],
      "metadata": {
        "id": "54BmjLCYK82n"
      },
      "execution_count": null,
      "outputs": []
    },
    {
      "cell_type": "code",
      "source": [
        "np.linspace(0, 2, 9)                   # 0 to 2 samma jane ani 9 ota number line"
      ],
      "metadata": {
        "colab": {
          "base_uri": "https://localhost:8080/"
        },
        "id": "S73If98-LJm9",
        "outputId": "ee50baba-6bd0-42b2-b2db-9c0446b91a39"
      },
      "execution_count": null,
      "outputs": [
        {
          "output_type": "execute_result",
          "data": {
            "text/plain": [
              "array([0.  , 0.25, 0.5 , 0.75, 1.  , 1.25, 1.5 , 1.75, 2.  ])"
            ]
          },
          "metadata": {},
          "execution_count": 28
        }
      ]
    },
    {
      "cell_type": "code",
      "source": [
        "x = np.linspace(0, 2 * pi, 100)        # useful to evaluate function at lots of points"
      ],
      "metadata": {
        "id": "UNLm0WdkLP8-"
      },
      "execution_count": null,
      "outputs": []
    },
    {
      "cell_type": "code",
      "source": [
        "f = np.sin(x)"
      ],
      "metadata": {
        "id": "vvAaSbZvLkOp"
      },
      "execution_count": null,
      "outputs": []
    },
    {
      "cell_type": "code",
      "source": [
        "a = np.arange(6)                    # 1d array\n",
        "print(a)\n"
      ],
      "metadata": {
        "colab": {
          "base_uri": "https://localhost:8080/"
        },
        "id": "L0qpOEQZLpu0",
        "outputId": "55777ec3-b1b4-415c-bc15-3fd689aa180f"
      },
      "execution_count": null,
      "outputs": [
        {
          "output_type": "stream",
          "name": "stdout",
          "text": [
            "[0 1 2 3 4 5]\n"
          ]
        }
      ]
    },
    {
      "cell_type": "code",
      "source": [
        "b = np.arange(12).reshape(4, 3)     # 2d array\n",
        "print(b)"
      ],
      "metadata": {
        "colab": {
          "base_uri": "https://localhost:8080/"
        },
        "id": "7BXyH-HrMPYZ",
        "outputId": "afb32bfa-8d15-4387-f9b6-a79e20bb6f66"
      },
      "execution_count": null,
      "outputs": [
        {
          "output_type": "stream",
          "name": "stdout",
          "text": [
            "[[ 0  1  2]\n",
            " [ 3  4  5]\n",
            " [ 6  7  8]\n",
            " [ 9 10 11]]\n"
          ]
        }
      ]
    },
    {
      "cell_type": "code",
      "source": [
        "c = np.arange(24).reshape(2, 3, 4)  # 3d array\n",
        "print(c)"
      ],
      "metadata": {
        "colab": {
          "base_uri": "https://localhost:8080/"
        },
        "id": "9HYHFAXVMQ8N",
        "outputId": "ff1209b3-0c7b-42a1-80e8-d45c6b4ed46b"
      },
      "execution_count": null,
      "outputs": [
        {
          "output_type": "stream",
          "name": "stdout",
          "text": [
            "[[[ 0  1  2  3]\n",
            "  [ 4  5  6  7]\n",
            "  [ 8  9 10 11]]\n",
            "\n",
            " [[12 13 14 15]\n",
            "  [16 17 18 19]\n",
            "  [20 21 22 23]]]\n"
          ]
        }
      ]
    },
    {
      "cell_type": "code",
      "source": [
        "print(np.arange(10000))"
      ],
      "metadata": {
        "colab": {
          "base_uri": "https://localhost:8080/"
        },
        "id": "BcKgddPOMRk5",
        "outputId": "2f5e778b-bdeb-4d53-f03c-cc6544e6a9fd"
      },
      "execution_count": null,
      "outputs": [
        {
          "output_type": "stream",
          "name": "stdout",
          "text": [
            "[   0    1    2 ... 9997 9998 9999]\n"
          ]
        }
      ]
    },
    {
      "cell_type": "code",
      "source": [
        "print(np.arange(10000).reshape(100, 100))"
      ],
      "metadata": {
        "colab": {
          "base_uri": "https://localhost:8080/"
        },
        "id": "iDvjdJy2Mgcs",
        "outputId": "78703cfa-397d-49d5-fb05-793cdadde5ef"
      },
      "execution_count": null,
      "outputs": [
        {
          "output_type": "stream",
          "name": "stdout",
          "text": [
            "[[   0    1    2 ...   97   98   99]\n",
            " [ 100  101  102 ...  197  198  199]\n",
            " [ 200  201  202 ...  297  298  299]\n",
            " ...\n",
            " [9700 9701 9702 ... 9797 9798 9799]\n",
            " [9800 9801 9802 ... 9897 9898 9899]\n",
            " [9900 9901 9902 ... 9997 9998 9999]]\n"
          ]
        }
      ]
    },
    {
      "cell_type": "code",
      "source": [
        "a = np.array([20, 30, 40, 50])"
      ],
      "metadata": {
        "id": "P-ErWS3NMqtF"
      },
      "execution_count": null,
      "outputs": []
    },
    {
      "cell_type": "code",
      "source": [
        "b = np.arange(4)"
      ],
      "metadata": {
        "id": "y5G1kZ7kMv9l"
      },
      "execution_count": null,
      "outputs": []
    },
    {
      "cell_type": "code",
      "source": [
        "b"
      ],
      "metadata": {
        "colab": {
          "base_uri": "https://localhost:8080/"
        },
        "id": "rjMaCqKcMxi1",
        "outputId": "6fcfe9c5-ddc7-42de-c3ba-3feef324db1a"
      },
      "execution_count": null,
      "outputs": [
        {
          "output_type": "execute_result",
          "data": {
            "text/plain": [
              "array([0, 1, 2, 3])"
            ]
          },
          "metadata": {},
          "execution_count": 41
        }
      ]
    },
    {
      "cell_type": "code",
      "source": [
        "c = a - b"
      ],
      "metadata": {
        "id": "3-HeDxS8My-D"
      },
      "execution_count": null,
      "outputs": []
    },
    {
      "cell_type": "code",
      "source": [
        "c"
      ],
      "metadata": {
        "colab": {
          "base_uri": "https://localhost:8080/"
        },
        "id": "iYnxPC5hM0QS",
        "outputId": "ee9e201d-2126-427d-b0ea-b86dc1777509"
      },
      "execution_count": null,
      "outputs": [
        {
          "output_type": "execute_result",
          "data": {
            "text/plain": [
              "array([20, 29, 38, 47])"
            ]
          },
          "metadata": {},
          "execution_count": 43
        }
      ]
    },
    {
      "cell_type": "code",
      "source": [
        "b**2"
      ],
      "metadata": {
        "colab": {
          "base_uri": "https://localhost:8080/"
        },
        "id": "Y6_QhzmIM1ZP",
        "outputId": "92cbed87-aa8d-4dfe-9248-d7974f63176b"
      },
      "execution_count": null,
      "outputs": [
        {
          "output_type": "execute_result",
          "data": {
            "text/plain": [
              "array([0, 1, 4, 9])"
            ]
          },
          "metadata": {},
          "execution_count": 44
        }
      ]
    },
    {
      "cell_type": "code",
      "source": [
        "10 * np.sin(a)"
      ],
      "metadata": {
        "colab": {
          "base_uri": "https://localhost:8080/"
        },
        "id": "vkqn0KrgM379",
        "outputId": "0eab6d5d-d5a3-4b1d-8c3e-5c1dde73ce4e"
      },
      "execution_count": null,
      "outputs": [
        {
          "output_type": "execute_result",
          "data": {
            "text/plain": [
              "array([ 9.12945251, -9.88031624,  7.4511316 , -2.62374854])"
            ]
          },
          "metadata": {},
          "execution_count": 45
        }
      ]
    },
    {
      "cell_type": "code",
      "source": [
        "a < 35"
      ],
      "metadata": {
        "colab": {
          "base_uri": "https://localhost:8080/"
        },
        "id": "pCDBCd67M2pz",
        "outputId": "b29883d5-a861-41a5-d8d0-41c7206f34fb"
      },
      "execution_count": null,
      "outputs": [
        {
          "output_type": "execute_result",
          "data": {
            "text/plain": [
              "array([ True,  True, False, False])"
            ]
          },
          "metadata": {},
          "execution_count": 46
        }
      ]
    },
    {
      "cell_type": "code",
      "source": [
        "A = np.array([[1, 1],\n",
        "              [0, 1]])\n",
        "B = np.array([[2, 0],\n",
        "              [3, 4]])"
      ],
      "metadata": {
        "id": "8hsb4mRuM8NK"
      },
      "execution_count": null,
      "outputs": []
    },
    {
      "cell_type": "code",
      "source": [
        "A * B     # elementwise product"
      ],
      "metadata": {
        "colab": {
          "base_uri": "https://localhost:8080/"
        },
        "id": "afakXAzeNNW3",
        "outputId": "d84ee9cb-917f-4754-f50d-76c65a96d77c"
      },
      "execution_count": null,
      "outputs": [
        {
          "output_type": "execute_result",
          "data": {
            "text/plain": [
              "array([[2, 0],\n",
              "       [0, 4]])"
            ]
          },
          "metadata": {},
          "execution_count": 48
        }
      ]
    },
    {
      "cell_type": "code",
      "source": [
        "A @ B     # matrix product"
      ],
      "metadata": {
        "colab": {
          "base_uri": "https://localhost:8080/"
        },
        "id": "ulgV2FPNNOvT",
        "outputId": "3d5f4c8b-8c49-401e-e2a4-c6876588b870"
      },
      "execution_count": null,
      "outputs": [
        {
          "output_type": "execute_result",
          "data": {
            "text/plain": [
              "array([[5, 4],\n",
              "       [3, 4]])"
            ]
          },
          "metadata": {},
          "execution_count": 49
        }
      ]
    },
    {
      "cell_type": "code",
      "source": [
        "A.dot(B)"
      ],
      "metadata": {
        "colab": {
          "base_uri": "https://localhost:8080/"
        },
        "id": "2nT6eMQoNRxh",
        "outputId": "8a99364d-3eab-4f65-d7be-10c186939677"
      },
      "execution_count": null,
      "outputs": [
        {
          "output_type": "execute_result",
          "data": {
            "text/plain": [
              "array([[5, 4],\n",
              "       [3, 4]])"
            ]
          },
          "metadata": {},
          "execution_count": 50
        }
      ]
    },
    {
      "cell_type": "code",
      "source": [
        "rg = np.random.default_rng(1)  # create instance of default random number generator"
      ],
      "metadata": {
        "id": "wLfPp0G9NWWv"
      },
      "execution_count": null,
      "outputs": []
    },
    {
      "cell_type": "code",
      "source": [
        "L = np.ones((2, 3), dtype=int)"
      ],
      "metadata": {
        "id": "9MuRp-8BNfSM"
      },
      "execution_count": null,
      "outputs": []
    },
    {
      "cell_type": "code",
      "source": [
        "J = rg.random((2, 3))"
      ],
      "metadata": {
        "id": "yDEbwDCpNjeM"
      },
      "execution_count": null,
      "outputs": []
    },
    {
      "cell_type": "code",
      "source": [
        "L *= 3"
      ],
      "metadata": {
        "id": "1hSJXXs9Nlfh"
      },
      "execution_count": null,
      "outputs": []
    },
    {
      "cell_type": "code",
      "source": [
        "L"
      ],
      "metadata": {
        "colab": {
          "base_uri": "https://localhost:8080/"
        },
        "id": "2G-g7y51Nrgh",
        "outputId": "9d6b0371-0ba2-434c-8f74-b496d1b8a050"
      },
      "execution_count": null,
      "outputs": [
        {
          "output_type": "execute_result",
          "data": {
            "text/plain": [
              "array([[3, 3, 3],\n",
              "       [3, 3, 3]])"
            ]
          },
          "metadata": {},
          "execution_count": 56
        }
      ]
    },
    {
      "cell_type": "code",
      "source": [
        "J += L"
      ],
      "metadata": {
        "id": "VFWgAS96NtNQ"
      },
      "execution_count": null,
      "outputs": []
    },
    {
      "cell_type": "code",
      "source": [
        "J"
      ],
      "metadata": {
        "colab": {
          "base_uri": "https://localhost:8080/"
        },
        "id": "7NtBNPh4NxgJ",
        "outputId": "7fa1d44f-cc78-4a51-fc47-0b1ab8a47c1b"
      },
      "execution_count": null,
      "outputs": [
        {
          "output_type": "execute_result",
          "data": {
            "text/plain": [
              "array([[3.51182162, 3.9504637 , 3.14415961],\n",
              "       [3.94864945, 3.31183145, 3.42332645]])"
            ]
          },
          "metadata": {},
          "execution_count": 58
        }
      ]
    },
    {
      "cell_type": "code",
      "source": [
        "L += J"
      ],
      "metadata": {
        "colab": {
          "base_uri": "https://localhost:8080/",
          "height": 141
        },
        "id": "3eZMmIV8N1LJ",
        "outputId": "f817b199-5235-4b13-a023-bf98b7446053"
      },
      "execution_count": null,
      "outputs": [
        {
          "output_type": "error",
          "ename": "UFuncTypeError",
          "evalue": "Cannot cast ufunc 'add' output from dtype('float64') to dtype('int64') with casting rule 'same_kind'",
          "traceback": [
            "\u001b[0;31m---------------------------------------------------------------------------\u001b[0m",
            "\u001b[0;31mUFuncTypeError\u001b[0m                            Traceback (most recent call last)",
            "\u001b[0;32m/tmp/ipython-input-1438123674.py\u001b[0m in \u001b[0;36m<cell line: 0>\u001b[0;34m()\u001b[0m\n\u001b[0;32m----> 1\u001b[0;31m \u001b[0mL\u001b[0m \u001b[0;34m+=\u001b[0m \u001b[0mJ\u001b[0m\u001b[0;34m\u001b[0m\u001b[0;34m\u001b[0m\u001b[0m\n\u001b[0m",
            "\u001b[0;31mUFuncTypeError\u001b[0m: Cannot cast ufunc 'add' output from dtype('float64') to dtype('int64') with casting rule 'same_kind'"
          ]
        }
      ]
    },
    {
      "cell_type": "code",
      "source": [
        "y = np.ones(3, dtype=np.int32)"
      ],
      "metadata": {
        "id": "eHOAemupN7gj"
      },
      "execution_count": null,
      "outputs": []
    },
    {
      "cell_type": "code",
      "source": [
        "z = np.linspace(0, pi, 3)"
      ],
      "metadata": {
        "id": "S8TcNrELOvBz"
      },
      "execution_count": null,
      "outputs": []
    },
    {
      "cell_type": "code",
      "source": [
        "z.dtype.name"
      ],
      "metadata": {
        "colab": {
          "base_uri": "https://localhost:8080/",
          "height": 36
        },
        "id": "Lpcer7PMOzxd",
        "outputId": "99c7c721-1421-47d1-f0fc-82b16d67a652"
      },
      "execution_count": null,
      "outputs": [
        {
          "output_type": "execute_result",
          "data": {
            "text/plain": [
              "'float64'"
            ],
            "application/vnd.google.colaboratory.intrinsic+json": {
              "type": "string"
            }
          },
          "metadata": {},
          "execution_count": 62
        }
      ]
    },
    {
      "cell_type": "code",
      "source": [
        "w = y + z"
      ],
      "metadata": {
        "id": "yzhyc33qO2tf"
      },
      "execution_count": null,
      "outputs": []
    },
    {
      "cell_type": "code",
      "source": [
        "w"
      ],
      "metadata": {
        "colab": {
          "base_uri": "https://localhost:8080/"
        },
        "id": "OcSJwmrrO_jC",
        "outputId": "e7bb0b49-457f-420f-868f-ed3865a2e230"
      },
      "execution_count": null,
      "outputs": [
        {
          "output_type": "execute_result",
          "data": {
            "text/plain": [
              "array([1.        , 2.57079633, 4.14159265])"
            ]
          },
          "metadata": {},
          "execution_count": 64
        }
      ]
    },
    {
      "cell_type": "code",
      "source": [
        "w.dtype.name"
      ],
      "metadata": {
        "colab": {
          "base_uri": "https://localhost:8080/",
          "height": 36
        },
        "id": "wQ1xYDOtPAoG",
        "outputId": "1a4899df-bcf3-489f-8c3d-c51a2d511656"
      },
      "execution_count": null,
      "outputs": [
        {
          "output_type": "execute_result",
          "data": {
            "text/plain": [
              "'float64'"
            ],
            "application/vnd.google.colaboratory.intrinsic+json": {
              "type": "string"
            }
          },
          "metadata": {},
          "execution_count": 65
        }
      ]
    },
    {
      "cell_type": "code",
      "source": [
        "d = np.exp(w * 1j)\n",
        "d"
      ],
      "metadata": {
        "colab": {
          "base_uri": "https://localhost:8080/"
        },
        "id": "po41BIIyPEHj",
        "outputId": "180f8bf8-1d33-4d0c-c261-df3482ba77d2"
      },
      "execution_count": null,
      "outputs": [
        {
          "output_type": "execute_result",
          "data": {
            "text/plain": [
              "array([ 0.54030231+0.84147098j, -0.84147098+0.54030231j,\n",
              "       -0.54030231-0.84147098j])"
            ]
          },
          "metadata": {},
          "execution_count": 66
        }
      ]
    },
    {
      "cell_type": "code",
      "source": [
        "d.dtype.name"
      ],
      "metadata": {
        "colab": {
          "base_uri": "https://localhost:8080/",
          "height": 36
        },
        "id": "1XGK2tSgPIz6",
        "outputId": "b1868096-cc6d-4882-f4e1-4dfc12c720df"
      },
      "execution_count": null,
      "outputs": [
        {
          "output_type": "execute_result",
          "data": {
            "text/plain": [
              "'complex128'"
            ],
            "application/vnd.google.colaboratory.intrinsic+json": {
              "type": "string"
            }
          },
          "metadata": {},
          "execution_count": 67
        }
      ]
    },
    {
      "cell_type": "code",
      "source": [
        "a = rg.random((2, 3))"
      ],
      "metadata": {
        "id": "5ol_j9JDPKLX"
      },
      "execution_count": null,
      "outputs": []
    },
    {
      "cell_type": "code",
      "source": [
        "a"
      ],
      "metadata": {
        "colab": {
          "base_uri": "https://localhost:8080/"
        },
        "id": "bCFjavu-PggU",
        "outputId": "eca2d6ce-af41-488e-c252-b2709e42e9bd"
      },
      "execution_count": null,
      "outputs": [
        {
          "output_type": "execute_result",
          "data": {
            "text/plain": [
              "array([[0.82770259, 0.40919914, 0.54959369],\n",
              "       [0.02755911, 0.75351311, 0.53814331]])"
            ]
          },
          "metadata": {},
          "execution_count": 69
        }
      ]
    },
    {
      "cell_type": "code",
      "source": [
        "a.sum()"
      ],
      "metadata": {
        "colab": {
          "base_uri": "https://localhost:8080/"
        },
        "id": "5kcnQQDLPiqV",
        "outputId": "a6b70c29-6d1c-43f2-c32d-306560f19120"
      },
      "execution_count": null,
      "outputs": [
        {
          "output_type": "execute_result",
          "data": {
            "text/plain": [
              "np.float64(3.1057109529998157)"
            ]
          },
          "metadata": {},
          "execution_count": 70
        }
      ]
    },
    {
      "cell_type": "code",
      "source": [
        "a.min()"
      ],
      "metadata": {
        "colab": {
          "base_uri": "https://localhost:8080/"
        },
        "id": "d_tYZoCPPmFR",
        "outputId": "4703747d-3061-4901-c445-476c912c52a8"
      },
      "execution_count": null,
      "outputs": [
        {
          "output_type": "execute_result",
          "data": {
            "text/plain": [
              "np.float64(0.027559113243068367)"
            ]
          },
          "metadata": {},
          "execution_count": 71
        }
      ]
    },
    {
      "cell_type": "code",
      "source": [
        "a.max()"
      ],
      "metadata": {
        "colab": {
          "base_uri": "https://localhost:8080/"
        },
        "id": "OdFcqUs_QZst",
        "outputId": "37755574-feb2-432d-da0b-bbafb423ee3d"
      },
      "execution_count": null,
      "outputs": [
        {
          "output_type": "execute_result",
          "data": {
            "text/plain": [
              "np.float64(0.8277025938204418)"
            ]
          },
          "metadata": {},
          "execution_count": 72
        }
      ]
    },
    {
      "cell_type": "code",
      "source": [
        "b = np.arange(12).reshape(3, 4)\n",
        "b"
      ],
      "metadata": {
        "colab": {
          "base_uri": "https://localhost:8080/"
        },
        "id": "I4RMIjpzQbsM",
        "outputId": "dfa46c5e-8b6d-4edf-e999-f2cf7053739e"
      },
      "execution_count": null,
      "outputs": [
        {
          "output_type": "execute_result",
          "data": {
            "text/plain": [
              "array([[ 0,  1,  2,  3],\n",
              "       [ 4,  5,  6,  7],\n",
              "       [ 8,  9, 10, 11]])"
            ]
          },
          "metadata": {},
          "execution_count": 73
        }
      ]
    },
    {
      "cell_type": "code",
      "source": [
        "b.sum(axis=0)     # sum of each column"
      ],
      "metadata": {
        "colab": {
          "base_uri": "https://localhost:8080/"
        },
        "id": "vp3YR79LQe5m",
        "outputId": "d15ba2ab-006b-4fbb-d229-89c4b1c478d7"
      },
      "execution_count": null,
      "outputs": [
        {
          "output_type": "execute_result",
          "data": {
            "text/plain": [
              "array([12, 15, 18, 21])"
            ]
          },
          "metadata": {},
          "execution_count": 74
        }
      ]
    },
    {
      "cell_type": "code",
      "source": [
        "b.min(axis=1)     # min of each row\n"
      ],
      "metadata": {
        "colab": {
          "base_uri": "https://localhost:8080/"
        },
        "id": "sJKlOqldQhd_",
        "outputId": "68731cdc-cf6e-4e84-861c-4abaa596c4f2"
      },
      "execution_count": null,
      "outputs": [
        {
          "output_type": "execute_result",
          "data": {
            "text/plain": [
              "array([0, 4, 8])"
            ]
          },
          "metadata": {},
          "execution_count": 75
        }
      ]
    },
    {
      "cell_type": "code",
      "source": [
        "b.cumsum(axis=1)  # cumulative sum along each row"
      ],
      "metadata": {
        "colab": {
          "base_uri": "https://localhost:8080/"
        },
        "id": "VpPsCa9GQlf4",
        "outputId": "8d9fccef-4a90-43b3-806c-83caa4145ac2"
      },
      "execution_count": null,
      "outputs": [
        {
          "output_type": "execute_result",
          "data": {
            "text/plain": [
              "array([[ 0,  1,  3,  6],\n",
              "       [ 4,  9, 15, 22],\n",
              "       [ 8, 17, 27, 38]])"
            ]
          },
          "metadata": {},
          "execution_count": 76
        }
      ]
    },
    {
      "cell_type": "code",
      "source": [
        "B = np.arange(3)"
      ],
      "metadata": {
        "id": "mjUXH853RBa-"
      },
      "execution_count": null,
      "outputs": []
    },
    {
      "cell_type": "code",
      "source": [
        "B"
      ],
      "metadata": {
        "colab": {
          "base_uri": "https://localhost:8080/"
        },
        "id": "27Mp6grIRIDU",
        "outputId": "3752a254-a8d4-43e0-ea70-b2a13992530d"
      },
      "execution_count": null,
      "outputs": [
        {
          "output_type": "execute_result",
          "data": {
            "text/plain": [
              "array([0, 1, 2])"
            ]
          },
          "metadata": {},
          "execution_count": 78
        }
      ]
    },
    {
      "cell_type": "code",
      "source": [
        "np.exp(B)"
      ],
      "metadata": {
        "colab": {
          "base_uri": "https://localhost:8080/"
        },
        "id": "ftE55csDRJRs",
        "outputId": "71d044d8-b795-4d35-b1d8-5b1d192d0a99"
      },
      "execution_count": null,
      "outputs": [
        {
          "output_type": "execute_result",
          "data": {
            "text/plain": [
              "array([1.        , 2.71828183, 7.3890561 ])"
            ]
          },
          "metadata": {},
          "execution_count": 79
        }
      ]
    },
    {
      "cell_type": "code",
      "source": [
        "np.sqrt(B)"
      ],
      "metadata": {
        "colab": {
          "base_uri": "https://localhost:8080/"
        },
        "id": "kCGgh_lgRKgH",
        "outputId": "45efc45c-1d2a-4195-d87e-881d39c8d5b8"
      },
      "execution_count": null,
      "outputs": [
        {
          "output_type": "execute_result",
          "data": {
            "text/plain": [
              "array([0.        , 1.        , 1.41421356])"
            ]
          },
          "metadata": {},
          "execution_count": 80
        }
      ]
    },
    {
      "cell_type": "code",
      "source": [
        "C = np.array([2., -1., 4.])"
      ],
      "metadata": {
        "id": "Rix36FTuRMES"
      },
      "execution_count": null,
      "outputs": []
    },
    {
      "cell_type": "code",
      "source": [
        "np.add(B, C)"
      ],
      "metadata": {
        "colab": {
          "base_uri": "https://localhost:8080/"
        },
        "id": "1QMK--7yRNVm",
        "outputId": "5377912c-0887-4767-929d-5b1cb6081058"
      },
      "execution_count": null,
      "outputs": [
        {
          "output_type": "execute_result",
          "data": {
            "text/plain": [
              "array([2., 0., 6.])"
            ]
          },
          "metadata": {},
          "execution_count": 82
        }
      ]
    },
    {
      "cell_type": "code",
      "source": [
        "a = np.arange(10)**3\n",
        "a"
      ],
      "metadata": {
        "colab": {
          "base_uri": "https://localhost:8080/"
        },
        "id": "aHK0j1_tROHA",
        "outputId": "d4df88f6-d155-4dac-fff3-860f91e1e78e"
      },
      "execution_count": null,
      "outputs": [
        {
          "output_type": "execute_result",
          "data": {
            "text/plain": [
              "array([  0,   1,   8,  27,  64, 125, 216, 343, 512, 729])"
            ]
          },
          "metadata": {},
          "execution_count": 83
        }
      ]
    },
    {
      "cell_type": "code",
      "source": [
        "a[2]"
      ],
      "metadata": {
        "colab": {
          "base_uri": "https://localhost:8080/"
        },
        "id": "k5EsTW6-RZF2",
        "outputId": "8b9af330-9a35-4d81-88ce-1e79e4b50409"
      },
      "execution_count": null,
      "outputs": [
        {
          "output_type": "execute_result",
          "data": {
            "text/plain": [
              "np.int64(8)"
            ]
          },
          "metadata": {},
          "execution_count": 84
        }
      ]
    },
    {
      "cell_type": "code",
      "source": [
        "a[2:5]"
      ],
      "metadata": {
        "colab": {
          "base_uri": "https://localhost:8080/"
        },
        "id": "lsWOo58mRahp",
        "outputId": "dfacec5a-4d2f-4f69-ec03-a98ccab63b3c"
      },
      "execution_count": null,
      "outputs": [
        {
          "output_type": "execute_result",
          "data": {
            "text/plain": [
              "array([ 8, 27, 64])"
            ]
          },
          "metadata": {},
          "execution_count": 85
        }
      ]
    },
    {
      "cell_type": "code",
      "source": [
        "a[:6:2] = 1000\n",
        "a\n"
      ],
      "metadata": {
        "colab": {
          "base_uri": "https://localhost:8080/"
        },
        "id": "Bu_vZ605Rb5u",
        "outputId": "d4e96838-25b9-46c4-c3cf-a50850b6efcd"
      },
      "execution_count": null,
      "outputs": [
        {
          "output_type": "execute_result",
          "data": {
            "text/plain": [
              "array([1000,    1, 1000,   27, 1000,  125,  216,  343,  512,  729])"
            ]
          },
          "metadata": {},
          "execution_count": 86
        }
      ]
    },
    {
      "cell_type": "code",
      "source": [
        "a[::-1]"
      ],
      "metadata": {
        "colab": {
          "base_uri": "https://localhost:8080/"
        },
        "id": "1r5QE-5DRfsB",
        "outputId": "55d1ca6c-dd21-4b6f-fb41-6a7238eadf48"
      },
      "execution_count": null,
      "outputs": [
        {
          "output_type": "execute_result",
          "data": {
            "text/plain": [
              "array([ 729,  512,  343,  216,  125, 1000,   27, 1000,    1, 1000])"
            ]
          },
          "metadata": {},
          "execution_count": 87
        }
      ]
    },
    {
      "cell_type": "code",
      "source": [
        "for i in a:\n",
        "    print(i**(1 / 3.))"
      ],
      "metadata": {
        "colab": {
          "base_uri": "https://localhost:8080/"
        },
        "id": "YNjuzT7URhXv",
        "outputId": "e3dcaaf4-edcb-4f2d-b94b-8ddd35086358"
      },
      "execution_count": null,
      "outputs": [
        {
          "output_type": "stream",
          "name": "stdout",
          "text": [
            "9.999999999999998\n",
            "1.0\n",
            "9.999999999999998\n",
            "3.0\n",
            "9.999999999999998\n",
            "4.999999999999999\n",
            "5.999999999999999\n",
            "6.999999999999999\n",
            "7.999999999999999\n",
            "8.999999999999998\n"
          ]
        }
      ]
    },
    {
      "cell_type": "code",
      "source": [
        "def f(x, y):\n",
        "    return 10 * x + y"
      ],
      "metadata": {
        "id": "lInV3481Ricj"
      },
      "execution_count": null,
      "outputs": []
    },
    {
      "cell_type": "code",
      "source": [
        "b = np.fromfunction(f, (5, 4), dtype=int)\n",
        "b\n"
      ],
      "metadata": {
        "colab": {
          "base_uri": "https://localhost:8080/"
        },
        "id": "pHPqWstgRt2b",
        "outputId": "ef79a962-cd08-4979-85ae-dd5ae3f276f5"
      },
      "execution_count": null,
      "outputs": [
        {
          "output_type": "execute_result",
          "data": {
            "text/plain": [
              "array([[ 0,  1,  2,  3],\n",
              "       [10, 11, 12, 13],\n",
              "       [20, 21, 22, 23],\n",
              "       [30, 31, 32, 33],\n",
              "       [40, 41, 42, 43]])"
            ]
          },
          "metadata": {},
          "execution_count": 91
        }
      ]
    },
    {
      "cell_type": "code",
      "source": [
        "b[2, 3]\n"
      ],
      "metadata": {
        "colab": {
          "base_uri": "https://localhost:8080/"
        },
        "id": "_sJjCKEpRvcY",
        "outputId": "daaee44e-54bc-4b31-8090-cc601f07ea59"
      },
      "execution_count": null,
      "outputs": [
        {
          "output_type": "execute_result",
          "data": {
            "text/plain": [
              "np.int64(23)"
            ]
          },
          "metadata": {},
          "execution_count": 92
        }
      ]
    },
    {
      "cell_type": "code",
      "source": [
        "b[0:5, 1]  # each row in the second column of b\n"
      ],
      "metadata": {
        "colab": {
          "base_uri": "https://localhost:8080/"
        },
        "id": "qFGDbW7ORzTY",
        "outputId": "5681f45c-b1d2-4821-ccbd-6e0edce01bda"
      },
      "execution_count": null,
      "outputs": [
        {
          "output_type": "execute_result",
          "data": {
            "text/plain": [
              "array([ 1, 11, 21, 31, 41])"
            ]
          },
          "metadata": {},
          "execution_count": 93
        }
      ]
    },
    {
      "cell_type": "code",
      "source": [
        "b[:, 1]    # equivalent to the previous example"
      ],
      "metadata": {
        "colab": {
          "base_uri": "https://localhost:8080/"
        },
        "id": "Wg3afbyrR0s2",
        "outputId": "9f466eec-f670-43a1-c13b-4d8afcb40fa8"
      },
      "execution_count": null,
      "outputs": [
        {
          "output_type": "execute_result",
          "data": {
            "text/plain": [
              "array([ 1, 11, 21, 31, 41])"
            ]
          },
          "metadata": {},
          "execution_count": 94
        }
      ]
    },
    {
      "cell_type": "code",
      "source": [
        "b[1:3, :]  # each column in the second and third row of b"
      ],
      "metadata": {
        "colab": {
          "base_uri": "https://localhost:8080/"
        },
        "id": "WN5ccgRfR2Ej",
        "outputId": "0925682b-7853-40c2-effc-2d758dbae749"
      },
      "execution_count": null,
      "outputs": [
        {
          "output_type": "execute_result",
          "data": {
            "text/plain": [
              "array([[10, 11, 12, 13],\n",
              "       [20, 21, 22, 23]])"
            ]
          },
          "metadata": {},
          "execution_count": 95
        }
      ]
    },
    {
      "cell_type": "code",
      "source": [
        "b[-1]   # the last row. Equivalent to b[-1, :]"
      ],
      "metadata": {
        "colab": {
          "base_uri": "https://localhost:8080/"
        },
        "id": "pxdt94EPR2jp",
        "outputId": "de9f130f-1f68-4be9-b122-e41ed7458d20"
      },
      "execution_count": null,
      "outputs": [
        {
          "output_type": "execute_result",
          "data": {
            "text/plain": [
              "array([40, 41, 42, 43])"
            ]
          },
          "metadata": {},
          "execution_count": 96
        }
      ]
    },
    {
      "cell_type": "code",
      "source": [
        "c = np.array([[[  0,  1,  2],  # a 3D array (two stacked 2D arrays)\n",
        "               [ 10, 12, 13]],\n",
        "              [[100, 101, 102],\n",
        "               [110, 112, 113]]])"
      ],
      "metadata": {
        "id": "n2AAlJBCR5dG"
      },
      "execution_count": null,
      "outputs": []
    },
    {
      "cell_type": "code",
      "source": [
        "c.shape"
      ],
      "metadata": {
        "colab": {
          "base_uri": "https://localhost:8080/"
        },
        "id": "d9hffOn5SIE-",
        "outputId": "ad9e8cde-c604-465b-9a77-c7bc351bf236"
      },
      "execution_count": null,
      "outputs": [
        {
          "output_type": "execute_result",
          "data": {
            "text/plain": [
              "(2, 2, 3)"
            ]
          },
          "metadata": {},
          "execution_count": 99
        }
      ]
    },
    {
      "cell_type": "code",
      "source": [
        "c[1, ...]  # same as c[1, :, :] or c[1]\n"
      ],
      "metadata": {
        "colab": {
          "base_uri": "https://localhost:8080/"
        },
        "id": "jPRNhOELSLxS",
        "outputId": "19b410b4-7484-42af-ed54-dccad2d3004a"
      },
      "execution_count": null,
      "outputs": [
        {
          "output_type": "execute_result",
          "data": {
            "text/plain": [
              "array([[100, 101, 102],\n",
              "       [110, 112, 113]])"
            ]
          },
          "metadata": {},
          "execution_count": 100
        }
      ]
    },
    {
      "cell_type": "code",
      "source": [
        "c[..., 2]  # same as c[:, :, 2]"
      ],
      "metadata": {
        "colab": {
          "base_uri": "https://localhost:8080/"
        },
        "id": "sSa78wRYSNIJ",
        "outputId": "e588478a-48e1-44c3-ad34-228910f18e16"
      },
      "execution_count": null,
      "outputs": [
        {
          "output_type": "execute_result",
          "data": {
            "text/plain": [
              "array([[  2,  13],\n",
              "       [102, 113]])"
            ]
          },
          "metadata": {},
          "execution_count": 101
        }
      ]
    },
    {
      "cell_type": "code",
      "source": [
        "for row in b:\n",
        "    print(row)"
      ],
      "metadata": {
        "colab": {
          "base_uri": "https://localhost:8080/"
        },
        "id": "Nh_LOtKvSPSQ",
        "outputId": "11d73499-47b9-4b10-f965-cfa202f1229e"
      },
      "execution_count": null,
      "outputs": [
        {
          "output_type": "stream",
          "name": "stdout",
          "text": [
            "[0 1 2 3]\n",
            "[10 11 12 13]\n",
            "[20 21 22 23]\n",
            "[30 31 32 33]\n",
            "[40 41 42 43]\n"
          ]
        }
      ]
    },
    {
      "cell_type": "code",
      "source": [
        "for element in b.flat:\n",
        "    print(element)"
      ],
      "metadata": {
        "colab": {
          "base_uri": "https://localhost:8080/"
        },
        "id": "SGcvrxb-SS7N",
        "outputId": "78282318-ee81-425c-8ea4-3f949d4d7f18"
      },
      "execution_count": null,
      "outputs": [
        {
          "output_type": "stream",
          "name": "stdout",
          "text": [
            "0\n",
            "1\n",
            "2\n",
            "3\n",
            "10\n",
            "11\n",
            "12\n",
            "13\n",
            "20\n",
            "21\n",
            "22\n",
            "23\n",
            "30\n",
            "31\n",
            "32\n",
            "33\n",
            "40\n",
            "41\n",
            "42\n",
            "43\n"
          ]
        }
      ]
    },
    {
      "cell_type": "code",
      "source": [
        "a = np.floor(10 * rg.random((3, 4)))\n",
        "a"
      ],
      "metadata": {
        "colab": {
          "base_uri": "https://localhost:8080/"
        },
        "id": "3vcRzjYZSUg1",
        "outputId": "b977ee1a-07a1-46ba-c3bb-1d26139f34b3"
      },
      "execution_count": null,
      "outputs": [
        {
          "output_type": "execute_result",
          "data": {
            "text/plain": [
              "array([[9., 7., 5., 2.],\n",
              "       [1., 9., 5., 1.],\n",
              "       [6., 7., 6., 9.]])"
            ]
          },
          "metadata": {},
          "execution_count": 105
        }
      ]
    },
    {
      "cell_type": "code",
      "source": [
        "a.shape"
      ],
      "metadata": {
        "colab": {
          "base_uri": "https://localhost:8080/"
        },
        "id": "gNchmHARSXEq",
        "outputId": "ba025956-431f-4053-a3d7-6a5007ac16da"
      },
      "execution_count": null,
      "outputs": [
        {
          "output_type": "execute_result",
          "data": {
            "text/plain": [
              "(3, 4)"
            ]
          },
          "metadata": {},
          "execution_count": 106
        }
      ]
    },
    {
      "cell_type": "code",
      "source": [
        "a.ravel()  # returns the array, flattened"
      ],
      "metadata": {
        "colab": {
          "base_uri": "https://localhost:8080/"
        },
        "id": "V_hP9SE4SZaR",
        "outputId": "a4157f6f-85d1-43b3-d3b3-9750e9e0e509"
      },
      "execution_count": null,
      "outputs": [
        {
          "output_type": "execute_result",
          "data": {
            "text/plain": [
              "array([9., 7., 5., 2., 1., 9., 5., 1., 6., 7., 6., 9.])"
            ]
          },
          "metadata": {},
          "execution_count": 107
        }
      ]
    },
    {
      "cell_type": "code",
      "source": [
        "a.reshape(6, 2)  # returns the array with a modified shape"
      ],
      "metadata": {
        "colab": {
          "base_uri": "https://localhost:8080/"
        },
        "id": "U9NqvsKJSdXq",
        "outputId": "e54d5033-8bb0-4994-9be9-a2ced79ceace"
      },
      "execution_count": null,
      "outputs": [
        {
          "output_type": "execute_result",
          "data": {
            "text/plain": [
              "array([[9., 7.],\n",
              "       [5., 2.],\n",
              "       [1., 9.],\n",
              "       [5., 1.],\n",
              "       [6., 7.],\n",
              "       [6., 9.]])"
            ]
          },
          "metadata": {},
          "execution_count": 108
        }
      ]
    },
    {
      "cell_type": "code",
      "source": [
        "a.T  # returns the array, transposed\n"
      ],
      "metadata": {
        "colab": {
          "base_uri": "https://localhost:8080/"
        },
        "id": "gMvEJMUPSe-8",
        "outputId": "57d3699f-795d-4028-f70e-166b4d08fbf8"
      },
      "execution_count": null,
      "outputs": [
        {
          "output_type": "execute_result",
          "data": {
            "text/plain": [
              "array([[9., 1., 6.],\n",
              "       [7., 9., 7.],\n",
              "       [5., 5., 6.],\n",
              "       [2., 1., 9.]])"
            ]
          },
          "metadata": {},
          "execution_count": 109
        }
      ]
    },
    {
      "cell_type": "code",
      "source": [
        "a.T.shape"
      ],
      "metadata": {
        "colab": {
          "base_uri": "https://localhost:8080/"
        },
        "id": "JkJnEWYZShR3",
        "outputId": "354ab7c0-4307-4e3b-8caa-8ada2c7f773d"
      },
      "execution_count": null,
      "outputs": [
        {
          "output_type": "execute_result",
          "data": {
            "text/plain": [
              "(4, 3)"
            ]
          },
          "metadata": {},
          "execution_count": 110
        }
      ]
    },
    {
      "cell_type": "code",
      "source": [
        "a.shape"
      ],
      "metadata": {
        "colab": {
          "base_uri": "https://localhost:8080/"
        },
        "id": "899BrzTFSiwD",
        "outputId": "b599b1d6-0dd9-49e1-bc95-23081b4e8af7"
      },
      "execution_count": null,
      "outputs": [
        {
          "output_type": "execute_result",
          "data": {
            "text/plain": [
              "(3, 4)"
            ]
          },
          "metadata": {},
          "execution_count": 111
        }
      ]
    },
    {
      "cell_type": "code",
      "source": [
        "a"
      ],
      "metadata": {
        "colab": {
          "base_uri": "https://localhost:8080/"
        },
        "id": "zj9Y-ZxkSjSD",
        "outputId": "1ce97810-659c-4f90-a6dc-0c008c7fa40f"
      },
      "execution_count": null,
      "outputs": [
        {
          "output_type": "execute_result",
          "data": {
            "text/plain": [
              "array([[9., 7., 5., 2.],\n",
              "       [1., 9., 5., 1.],\n",
              "       [6., 7., 6., 9.]])"
            ]
          },
          "metadata": {},
          "execution_count": 112
        }
      ]
    },
    {
      "cell_type": "code",
      "source": [
        "a.resize((2, 6))\n",
        "a"
      ],
      "metadata": {
        "colab": {
          "base_uri": "https://localhost:8080/"
        },
        "id": "0yHY6oQwSm2r",
        "outputId": "2626401e-c261-4161-cfa0-39458b1fd2e2"
      },
      "execution_count": null,
      "outputs": [
        {
          "output_type": "execute_result",
          "data": {
            "text/plain": [
              "array([[9., 7., 5., 2., 1., 9.],\n",
              "       [5., 1., 6., 7., 6., 9.]])"
            ]
          },
          "metadata": {},
          "execution_count": 113
        }
      ]
    },
    {
      "cell_type": "code",
      "source": [
        "a.reshape(3, -1)"
      ],
      "metadata": {
        "colab": {
          "base_uri": "https://localhost:8080/"
        },
        "id": "JIn2kp44SoHE",
        "outputId": "dccb66f8-629e-4020-9670-a8f294179040"
      },
      "execution_count": null,
      "outputs": [
        {
          "output_type": "execute_result",
          "data": {
            "text/plain": [
              "array([[9., 7., 5., 2.],\n",
              "       [1., 9., 5., 1.],\n",
              "       [6., 7., 6., 9.]])"
            ]
          },
          "metadata": {},
          "execution_count": 114
        }
      ]
    },
    {
      "cell_type": "code",
      "source": [
        "a = np.floor(10 * rg.random((2, 2)))"
      ],
      "metadata": {
        "id": "e9TqP-q5Spcw"
      },
      "execution_count": null,
      "outputs": []
    },
    {
      "cell_type": "code",
      "source": [
        "a"
      ],
      "metadata": {
        "colab": {
          "base_uri": "https://localhost:8080/"
        },
        "id": "Z-rG1DvdSsC6",
        "outputId": "a2498d04-130b-4221-e7d7-f03a684e6a87"
      },
      "execution_count": null,
      "outputs": [
        {
          "output_type": "execute_result",
          "data": {
            "text/plain": [
              "array([[0., 5.],\n",
              "       [4., 0.]])"
            ]
          },
          "metadata": {},
          "execution_count": 116
        }
      ]
    },
    {
      "cell_type": "code",
      "source": [
        "b = np.floor(10 * rg.random((2, 2)))\n",
        "b"
      ],
      "metadata": {
        "colab": {
          "base_uri": "https://localhost:8080/"
        },
        "id": "0-WEzeWIStVX",
        "outputId": "f7d677de-195e-4371-8392-1f9f43f0d6fd"
      },
      "execution_count": null,
      "outputs": [
        {
          "output_type": "execute_result",
          "data": {
            "text/plain": [
              "array([[6., 8.],\n",
              "       [5., 2.]])"
            ]
          },
          "metadata": {},
          "execution_count": 117
        }
      ]
    },
    {
      "cell_type": "code",
      "source": [
        "np.vstack((a, b))"
      ],
      "metadata": {
        "colab": {
          "base_uri": "https://localhost:8080/"
        },
        "id": "F2rU-bghSuh6",
        "outputId": "8f8eb08d-d454-4f94-95ca-447e0dc5847c"
      },
      "execution_count": null,
      "outputs": [
        {
          "output_type": "execute_result",
          "data": {
            "text/plain": [
              "array([[0., 5.],\n",
              "       [4., 0.],\n",
              "       [6., 8.],\n",
              "       [5., 2.]])"
            ]
          },
          "metadata": {},
          "execution_count": 118
        }
      ]
    },
    {
      "cell_type": "code",
      "source": [
        "np.hstack((a, b))"
      ],
      "metadata": {
        "colab": {
          "base_uri": "https://localhost:8080/"
        },
        "id": "v6uyzhq1Sv-B",
        "outputId": "997370e1-1dfb-4e9a-89a0-8c8942863937"
      },
      "execution_count": null,
      "outputs": [
        {
          "output_type": "execute_result",
          "data": {
            "text/plain": [
              "array([[0., 5., 6., 8.],\n",
              "       [4., 0., 5., 2.]])"
            ]
          },
          "metadata": {},
          "execution_count": 119
        }
      ]
    },
    {
      "cell_type": "code",
      "source": [
        "from numpy import newaxis\n",
        "np.column_stack((a, b))  # with 2D arrays\n",
        "a = np.array([4., 2.])\n",
        "b = np.array([3., 8.])"
      ],
      "metadata": {
        "id": "zA5-4GRgSxVy"
      },
      "execution_count": null,
      "outputs": []
    },
    {
      "cell_type": "code",
      "source": [
        "np.column_stack((a, b))  # returns a 2D array"
      ],
      "metadata": {
        "colab": {
          "base_uri": "https://localhost:8080/"
        },
        "id": "DyQ3h_7XS1TA",
        "outputId": "442942ec-2b8f-41a8-f614-85e39ae576e1"
      },
      "execution_count": null,
      "outputs": [
        {
          "output_type": "execute_result",
          "data": {
            "text/plain": [
              "array([[4., 3.],\n",
              "       [2., 8.]])"
            ]
          },
          "metadata": {},
          "execution_count": 121
        }
      ]
    },
    {
      "cell_type": "code",
      "source": [
        "np.hstack((a, b))        # the result is different"
      ],
      "metadata": {
        "colab": {
          "base_uri": "https://localhost:8080/"
        },
        "id": "JEMQZrc9S27K",
        "outputId": "fa5b0210-48f7-4afe-f41c-d9a5c4a355ad"
      },
      "execution_count": null,
      "outputs": [
        {
          "output_type": "execute_result",
          "data": {
            "text/plain": [
              "array([4., 2., 3., 8.])"
            ]
          },
          "metadata": {},
          "execution_count": 122
        }
      ]
    },
    {
      "cell_type": "code",
      "source": [
        "a[:, newaxis]  # view `a` as a 2D column vector"
      ],
      "metadata": {
        "colab": {
          "base_uri": "https://localhost:8080/"
        },
        "id": "9UU0RW-3S4T8",
        "outputId": "8dce96c2-ff42-4341-e9da-f90857514b16"
      },
      "execution_count": null,
      "outputs": [
        {
          "output_type": "execute_result",
          "data": {
            "text/plain": [
              "array([[4.],\n",
              "       [2.]])"
            ]
          },
          "metadata": {},
          "execution_count": 123
        }
      ]
    },
    {
      "cell_type": "code",
      "source": [
        "np.column_stack((a[:, newaxis], b[:, newaxis]))"
      ],
      "metadata": {
        "colab": {
          "base_uri": "https://localhost:8080/"
        },
        "id": "Afu8ofiRS6ng",
        "outputId": "0cef4c25-4074-4c40-83bd-a96552b23e33"
      },
      "execution_count": null,
      "outputs": [
        {
          "output_type": "execute_result",
          "data": {
            "text/plain": [
              "array([[4., 3.],\n",
              "       [2., 8.]])"
            ]
          },
          "metadata": {},
          "execution_count": 124
        }
      ]
    },
    {
      "cell_type": "code",
      "source": [
        "np.hstack((a[:, newaxis], b[:, newaxis]))  # the result is the same"
      ],
      "metadata": {
        "colab": {
          "base_uri": "https://localhost:8080/"
        },
        "id": "cdHEl9UAS7xu",
        "outputId": "ff4ea1eb-ad9a-4542-c2c3-3d8b6c8f10c6"
      },
      "execution_count": null,
      "outputs": [
        {
          "output_type": "execute_result",
          "data": {
            "text/plain": [
              "array([[4., 3.],\n",
              "       [2., 8.]])"
            ]
          },
          "metadata": {},
          "execution_count": 125
        }
      ]
    },
    {
      "cell_type": "code",
      "source": [
        "np.r_[1:4, 0, 4]"
      ],
      "metadata": {
        "colab": {
          "base_uri": "https://localhost:8080/"
        },
        "id": "KRx6taliS8T1",
        "outputId": "d0298421-7477-4c1d-c1d0-ddec509bbde3"
      },
      "execution_count": null,
      "outputs": [
        {
          "output_type": "execute_result",
          "data": {
            "text/plain": [
              "array([1, 2, 3, 0, 4])"
            ]
          },
          "metadata": {},
          "execution_count": 126
        }
      ]
    },
    {
      "cell_type": "code",
      "source": [
        "a = np.floor(10 * rg.random((2, 12)))"
      ],
      "metadata": {
        "id": "PkZoPJwYS9yo"
      },
      "execution_count": null,
      "outputs": []
    },
    {
      "cell_type": "code",
      "source": [
        "a\n",
        "# Split `a` into 3\n",
        "np.hsplit(a, 3)"
      ],
      "metadata": {
        "colab": {
          "base_uri": "https://localhost:8080/"
        },
        "id": "-SVwaQJ0TA4C",
        "outputId": "cc911d33-cf64-41f7-d955-367967457b7f"
      },
      "execution_count": null,
      "outputs": [
        {
          "output_type": "execute_result",
          "data": {
            "text/plain": [
              "[array([[8., 5., 5., 7.],\n",
              "        [8., 8., 8., 4.]]),\n",
              " array([[1., 8., 6., 7.],\n",
              "        [2., 0., 6., 7.]]),\n",
              " array([[1., 8., 1., 0.],\n",
              "        [8., 2., 2., 6.]])]"
            ]
          },
          "metadata": {},
          "execution_count": 129
        }
      ]
    },
    {
      "cell_type": "code",
      "source": [
        "# Split `a` after the third and the fourth column\n",
        "np.hsplit(a, (3, 4))"
      ],
      "metadata": {
        "colab": {
          "base_uri": "https://localhost:8080/"
        },
        "id": "EtV5HlmGTBYs",
        "outputId": "304d688a-fa27-4735-9d0f-ff2a70464585"
      },
      "execution_count": null,
      "outputs": [
        {
          "output_type": "execute_result",
          "data": {
            "text/plain": [
              "[array([[8., 5., 5.],\n",
              "        [8., 8., 8.]]),\n",
              " array([[7.],\n",
              "        [4.]]),\n",
              " array([[1., 8., 6., 7., 1., 8., 1., 0.],\n",
              "        [2., 0., 6., 7., 8., 2., 2., 6.]])]"
            ]
          },
          "metadata": {},
          "execution_count": 130
        }
      ]
    },
    {
      "cell_type": "code",
      "source": [
        "a = np.array([[ 0,  1,  2,  3],\n",
        "              [ 4,  5,  6,  7],\n",
        "              [ 8,  9, 10, 11]])"
      ],
      "metadata": {
        "id": "y--_iiqTTFOS"
      },
      "execution_count": null,
      "outputs": []
    },
    {
      "cell_type": "code",
      "source": [
        "b = a            # no new object is created\n"
      ],
      "metadata": {
        "id": "k0c5o67GTID9"
      },
      "execution_count": null,
      "outputs": []
    },
    {
      "cell_type": "code",
      "source": [
        "b is a           # a and b are two names for the same ndarray object"
      ],
      "metadata": {
        "colab": {
          "base_uri": "https://localhost:8080/"
        },
        "id": "KZA7jEJFTJVo",
        "outputId": "4be5ce61-f9cc-422f-f19c-fc573adbeb38"
      },
      "execution_count": null,
      "outputs": [
        {
          "output_type": "execute_result",
          "data": {
            "text/plain": [
              "True"
            ]
          },
          "metadata": {},
          "execution_count": 133
        }
      ]
    },
    {
      "cell_type": "code",
      "source": [
        "def f(x):\n",
        "    print(id(x))\n"
      ],
      "metadata": {
        "id": "N9ggLhnYTJ6x"
      },
      "execution_count": null,
      "outputs": []
    },
    {
      "cell_type": "code",
      "source": [
        "id(a)  # id is a unique identifier of an object\n"
      ],
      "metadata": {
        "colab": {
          "base_uri": "https://localhost:8080/"
        },
        "id": "0kXUl4OiTNPm",
        "outputId": "90d46b72-13bf-44c6-ee1b-63ee79bfe2f4"
      },
      "execution_count": null,
      "outputs": [
        {
          "output_type": "execute_result",
          "data": {
            "text/plain": [
              "135603410739216"
            ]
          },
          "metadata": {},
          "execution_count": 135
        }
      ]
    },
    {
      "cell_type": "code",
      "source": [
        "f(a)"
      ],
      "metadata": {
        "colab": {
          "base_uri": "https://localhost:8080/"
        },
        "id": "wB8BPgqDTONQ",
        "outputId": "874b607a-6a82-4b2e-b60b-4a1938527cfb"
      },
      "execution_count": null,
      "outputs": [
        {
          "output_type": "stream",
          "name": "stdout",
          "text": [
            "135603410739216\n"
          ]
        }
      ]
    },
    {
      "cell_type": "code",
      "source": [
        "c = a.view()"
      ],
      "metadata": {
        "id": "N-2y_6tKTOpF"
      },
      "execution_count": null,
      "outputs": []
    },
    {
      "cell_type": "code",
      "source": [
        "c is a"
      ],
      "metadata": {
        "colab": {
          "base_uri": "https://localhost:8080/"
        },
        "id": "tYHLSvfzTU-8",
        "outputId": "4901dd26-bef9-4055-aadf-9f5782087a30"
      },
      "execution_count": null,
      "outputs": [
        {
          "output_type": "execute_result",
          "data": {
            "text/plain": [
              "False"
            ]
          },
          "metadata": {},
          "execution_count": 138
        }
      ]
    },
    {
      "cell_type": "code",
      "source": [
        "c.base is a            # c is a view of the data owned by a\n"
      ],
      "metadata": {
        "colab": {
          "base_uri": "https://localhost:8080/"
        },
        "id": "MREH5A0OTWVU",
        "outputId": "88524197-1745-4a09-adfc-2b57f67b4ae3"
      },
      "execution_count": null,
      "outputs": [
        {
          "output_type": "execute_result",
          "data": {
            "text/plain": [
              "True"
            ]
          },
          "metadata": {},
          "execution_count": 139
        }
      ]
    },
    {
      "cell_type": "code",
      "source": [
        "c.flags.owndata\n"
      ],
      "metadata": {
        "colab": {
          "base_uri": "https://localhost:8080/"
        },
        "id": "errBdBpHTXmf",
        "outputId": "d405771b-354d-4b13-eab8-89bfd6570e2e"
      },
      "execution_count": null,
      "outputs": [
        {
          "output_type": "execute_result",
          "data": {
            "text/plain": [
              "False"
            ]
          },
          "metadata": {},
          "execution_count": 140
        }
      ]
    },
    {
      "cell_type": "code",
      "source": [
        "c = c.reshape((2, 6))  # a's shape doesn't change, reassigned c is still a view of a\n"
      ],
      "metadata": {
        "id": "hpU3kYxZTYtV"
      },
      "execution_count": null,
      "outputs": []
    },
    {
      "cell_type": "code",
      "source": [
        "a.shape\n"
      ],
      "metadata": {
        "colab": {
          "base_uri": "https://localhost:8080/"
        },
        "id": "y2Ek62y7TZ4M",
        "outputId": "855bb8ac-261b-48a8-9eec-9dc61da1ebd3"
      },
      "execution_count": null,
      "outputs": [
        {
          "output_type": "execute_result",
          "data": {
            "text/plain": [
              "(3, 4)"
            ]
          },
          "metadata": {},
          "execution_count": 142
        }
      ]
    },
    {
      "cell_type": "code",
      "source": [
        "c[0, 4] = 1234         # a's data changes\n"
      ],
      "metadata": {
        "id": "6MgTaxT5TayX"
      },
      "execution_count": null,
      "outputs": []
    },
    {
      "cell_type": "code",
      "source": [
        "\n",
        "a"
      ],
      "metadata": {
        "colab": {
          "base_uri": "https://localhost:8080/"
        },
        "id": "EtOkzN_FTbhT",
        "outputId": "a9e94618-8704-463a-a405-2e21a1818b17"
      },
      "execution_count": null,
      "outputs": [
        {
          "output_type": "execute_result",
          "data": {
            "text/plain": [
              "array([[   0,    1,    2,    3],\n",
              "       [1234,    5,    6,    7],\n",
              "       [   8,    9,   10,   11]])"
            ]
          },
          "metadata": {},
          "execution_count": 144
        }
      ]
    },
    {
      "cell_type": "code",
      "source": [
        "s = a[:, 1:3]"
      ],
      "metadata": {
        "id": "kS7QEs37TctQ"
      },
      "execution_count": null,
      "outputs": []
    },
    {
      "cell_type": "code",
      "source": [
        "s[:] = 10  # s[:] is a view of s. Note the difference between s = 10 and s[:] = 10\n"
      ],
      "metadata": {
        "id": "LJvUH2pCWiMP"
      },
      "execution_count": null,
      "outputs": []
    },
    {
      "cell_type": "code",
      "source": [
        "a"
      ],
      "metadata": {
        "colab": {
          "base_uri": "https://localhost:8080/"
        },
        "id": "hE5CLrdCWjMy",
        "outputId": "8e20f418-77a4-4547-d177-0f03eb770bb4"
      },
      "execution_count": null,
      "outputs": [
        {
          "output_type": "execute_result",
          "data": {
            "text/plain": [
              "array([[   0,   10,   10,    3],\n",
              "       [1234,   10,   10,    7],\n",
              "       [   8,   10,   10,   11]])"
            ]
          },
          "metadata": {},
          "execution_count": 147
        }
      ]
    },
    {
      "cell_type": "code",
      "source": [
        "d = a.copy()  # a new array object with new data is created\n"
      ],
      "metadata": {
        "id": "krjqZYtNWkPH"
      },
      "execution_count": null,
      "outputs": []
    },
    {
      "cell_type": "code",
      "source": [
        "d is a\n"
      ],
      "metadata": {
        "colab": {
          "base_uri": "https://localhost:8080/"
        },
        "id": "EoMkIWwLWn1s",
        "outputId": "a74b12ea-177f-4337-c27f-3568691711fe"
      },
      "execution_count": null,
      "outputs": [
        {
          "output_type": "execute_result",
          "data": {
            "text/plain": [
              "False"
            ]
          },
          "metadata": {},
          "execution_count": 149
        }
      ]
    },
    {
      "cell_type": "code",
      "source": [
        "d.base is a  # d doesn't share anything with a\n"
      ],
      "metadata": {
        "colab": {
          "base_uri": "https://localhost:8080/"
        },
        "id": "MU7PHZ38WpHW",
        "outputId": "0073f867-8eb3-4d83-f225-c4ee660b5843"
      },
      "execution_count": null,
      "outputs": [
        {
          "output_type": "execute_result",
          "data": {
            "text/plain": [
              "False"
            ]
          },
          "metadata": {},
          "execution_count": 150
        }
      ]
    },
    {
      "cell_type": "code",
      "source": [
        "d[0, 0] = 9999\n"
      ],
      "metadata": {
        "id": "STJEOOzfWqJU"
      },
      "execution_count": null,
      "outputs": []
    },
    {
      "cell_type": "code",
      "source": [
        "a"
      ],
      "metadata": {
        "colab": {
          "base_uri": "https://localhost:8080/"
        },
        "id": "82AzUV4NWq2s",
        "outputId": "a1d52565-d3cd-4701-e438-9f1b66f1529e"
      },
      "execution_count": null,
      "outputs": [
        {
          "output_type": "execute_result",
          "data": {
            "text/plain": [
              "array([[   0,   10,   10,    3],\n",
              "       [1234,   10,   10,    7],\n",
              "       [   8,   10,   10,   11]])"
            ]
          },
          "metadata": {},
          "execution_count": 152
        }
      ]
    },
    {
      "cell_type": "code",
      "source": [
        "e = np.arange(int(1e8))\n"
      ],
      "metadata": {
        "id": "mkf12W6vWsDs"
      },
      "execution_count": null,
      "outputs": []
    },
    {
      "cell_type": "code",
      "source": [
        "f = e[:100].copy()\n"
      ],
      "metadata": {
        "id": "npn2-a5yW4e0"
      },
      "execution_count": null,
      "outputs": []
    },
    {
      "cell_type": "code",
      "source": [
        "del e  # the memory of ``a`` can be released."
      ],
      "metadata": {
        "id": "0YeR-6Y8W6AU"
      },
      "execution_count": null,
      "outputs": []
    },
    {
      "cell_type": "code",
      "source": [
        "g = np.arange(12)**2  # the first 12 square numbers"
      ],
      "metadata": {
        "id": "f3fPFPycW6hL"
      },
      "execution_count": null,
      "outputs": []
    },
    {
      "cell_type": "code",
      "source": [
        "i = np.array([1, 1, 3, 8, 5])  # an array of indices"
      ],
      "metadata": {
        "id": "Q5AmW0iJXG-L"
      },
      "execution_count": null,
      "outputs": []
    },
    {
      "cell_type": "code",
      "source": [
        "g[i]  # the elements of `a` at the positions `i`"
      ],
      "metadata": {
        "colab": {
          "base_uri": "https://localhost:8080/"
        },
        "id": "4IRo53U6XM5-",
        "outputId": "63173a4f-fafa-44c2-f431-203286c9bd04"
      },
      "execution_count": null,
      "outputs": [
        {
          "output_type": "execute_result",
          "data": {
            "text/plain": [
              "array([ 1,  1,  9, 64, 25])"
            ]
          },
          "metadata": {},
          "execution_count": 162
        }
      ]
    },
    {
      "cell_type": "code",
      "source": [
        "h = np.array([[3, 4], [9, 7]])  # a bidimensional array of indices"
      ],
      "metadata": {
        "id": "b7nNlaClXOTm"
      },
      "execution_count": null,
      "outputs": []
    },
    {
      "cell_type": "code",
      "source": [
        "g[h]  # the same shape as `j`"
      ],
      "metadata": {
        "colab": {
          "base_uri": "https://localhost:8080/"
        },
        "id": "qjSUoJDqXPnO",
        "outputId": "7d0430b3-9d8b-42a8-d8c9-c65cbe85f5c4"
      },
      "execution_count": null,
      "outputs": [
        {
          "output_type": "execute_result",
          "data": {
            "text/plain": [
              "array([[ 9, 16],\n",
              "       [81, 49]])"
            ]
          },
          "metadata": {},
          "execution_count": 164
        }
      ]
    },
    {
      "cell_type": "code",
      "source": [
        "palette = np.array([[0, 0, 0],         # black\n",
        "                    [255, 0, 0],       # red\n",
        "                    [0, 255, 0],       # green\n",
        "                    [0, 0, 255],       # blue\n",
        "                    [255, 255, 255]])  # white"
      ],
      "metadata": {
        "id": "CUoKPqkFXQBW"
      },
      "execution_count": null,
      "outputs": []
    },
    {
      "cell_type": "code",
      "source": [
        "image = np.array([[0, 1, 2, 0],  # each value corresponds to a color in the palette\n",
        "                  [0, 3, 4, 0]])"
      ],
      "metadata": {
        "id": "zwyFggEGXTSY"
      },
      "execution_count": null,
      "outputs": []
    },
    {
      "cell_type": "code",
      "source": [
        "palette[image]  # the (2, 4, 3) color image"
      ],
      "metadata": {
        "colab": {
          "base_uri": "https://localhost:8080/"
        },
        "id": "KOclsvsyXU3E",
        "outputId": "322f5ce5-b2a2-4ad4-bcb4-f432b02fe963"
      },
      "execution_count": null,
      "outputs": [
        {
          "output_type": "execute_result",
          "data": {
            "text/plain": [
              "array([[[  0,   0,   0],\n",
              "        [255,   0,   0],\n",
              "        [  0, 255,   0],\n",
              "        [  0,   0,   0]],\n",
              "\n",
              "       [[  0,   0,   0],\n",
              "        [  0,   0, 255],\n",
              "        [255, 255, 255],\n",
              "        [  0,   0,   0]]])"
            ]
          },
          "metadata": {},
          "execution_count": 167
        }
      ]
    },
    {
      "cell_type": "code",
      "source": [
        "q = np.arange(12).reshape(3, 4)\n"
      ],
      "metadata": {
        "id": "tKNc5vncXVaI"
      },
      "execution_count": null,
      "outputs": []
    },
    {
      "cell_type": "code",
      "source": [
        "q"
      ],
      "metadata": {
        "colab": {
          "base_uri": "https://localhost:8080/"
        },
        "id": "T4k5Qa7IXc2q",
        "outputId": "1759c1d2-0c23-4c70-fb20-3064ee260a80"
      },
      "execution_count": null,
      "outputs": [
        {
          "output_type": "execute_result",
          "data": {
            "text/plain": [
              "array([[ 0,  1,  2,  3],\n",
              "       [ 4,  5,  6,  7],\n",
              "       [ 8,  9, 10, 11]])"
            ]
          },
          "metadata": {},
          "execution_count": 169
        }
      ]
    },
    {
      "cell_type": "code",
      "source": [
        "i = np.array([[0, 1],  # indices for the first dim of `a`\n",
        "              [1, 2]])\n",
        "j = np.array([[2, 1],  # indices for the second dim\n",
        "              [3, 3]])\n"
      ],
      "metadata": {
        "id": "Sg4W0hD_XfDG"
      },
      "execution_count": null,
      "outputs": []
    },
    {
      "cell_type": "code",
      "source": [
        "q[i, j]  # i and j must have equal shape\n"
      ],
      "metadata": {
        "colab": {
          "base_uri": "https://localhost:8080/"
        },
        "id": "DFSOjY_QXgl5",
        "outputId": "99571516-b386-4d7e-cf6c-c1862475666e"
      },
      "execution_count": null,
      "outputs": [
        {
          "output_type": "execute_result",
          "data": {
            "text/plain": [
              "array([[ 2,  5],\n",
              "       [ 7, 11]])"
            ]
          },
          "metadata": {},
          "execution_count": 171
        }
      ]
    },
    {
      "cell_type": "code",
      "source": [
        "q[i, 2]"
      ],
      "metadata": {
        "colab": {
          "base_uri": "https://localhost:8080/"
        },
        "id": "rru3fZB1Xjt-",
        "outputId": "96ed29ea-2be6-49a6-e86f-6ca5d137a32f"
      },
      "execution_count": null,
      "outputs": [
        {
          "output_type": "execute_result",
          "data": {
            "text/plain": [
              "array([[ 2,  6],\n",
              "       [ 6, 10]])"
            ]
          },
          "metadata": {},
          "execution_count": 172
        }
      ]
    },
    {
      "cell_type": "code",
      "source": [
        "q[:, j]"
      ],
      "metadata": {
        "colab": {
          "base_uri": "https://localhost:8080/"
        },
        "id": "6weVhf1_Xk-x",
        "outputId": "22c3b308-073f-4fda-b579-1ec861f58bff"
      },
      "execution_count": null,
      "outputs": [
        {
          "output_type": "execute_result",
          "data": {
            "text/plain": [
              "array([[[ 2,  1],\n",
              "        [ 3,  3]],\n",
              "\n",
              "       [[ 6,  5],\n",
              "        [ 7,  7]],\n",
              "\n",
              "       [[10,  9],\n",
              "        [11, 11]]])"
            ]
          },
          "metadata": {},
          "execution_count": 173
        }
      ]
    },
    {
      "cell_type": "code",
      "source": [
        "l = (i, j)"
      ],
      "metadata": {
        "id": "_GzQgBF1Xngm"
      },
      "execution_count": null,
      "outputs": []
    },
    {
      "cell_type": "code",
      "source": [
        "q[l]"
      ],
      "metadata": {
        "colab": {
          "base_uri": "https://localhost:8080/"
        },
        "id": "XnrFaaw0Xr9M",
        "outputId": "d023ae3f-043a-4150-91ed-cd4860088278"
      },
      "execution_count": null,
      "outputs": [
        {
          "output_type": "execute_result",
          "data": {
            "text/plain": [
              "array([[ 2,  5],\n",
              "       [ 7, 11]])"
            ]
          },
          "metadata": {},
          "execution_count": 175
        }
      ]
    },
    {
      "cell_type": "code",
      "source": [
        "s = np.array([i, j])"
      ],
      "metadata": {
        "id": "FIzapxSGXt4P"
      },
      "execution_count": null,
      "outputs": []
    },
    {
      "cell_type": "code",
      "source": [
        "q[s]"
      ],
      "metadata": {
        "colab": {
          "base_uri": "https://localhost:8080/",
          "height": 141
        },
        "id": "SQxYUMyCXwbi",
        "outputId": "42ba7d55-a04e-4950-c1e1-ace48056c25d"
      },
      "execution_count": null,
      "outputs": [
        {
          "output_type": "error",
          "ename": "IndexError",
          "evalue": "index 3 is out of bounds for axis 0 with size 3",
          "traceback": [
            "\u001b[0;31m---------------------------------------------------------------------------\u001b[0m",
            "\u001b[0;31mIndexError\u001b[0m                                Traceback (most recent call last)",
            "\u001b[0;32m/tmp/ipython-input-3197611599.py\u001b[0m in \u001b[0;36m<cell line: 0>\u001b[0;34m()\u001b[0m\n\u001b[0;32m----> 1\u001b[0;31m \u001b[0mq\u001b[0m\u001b[0;34m[\u001b[0m\u001b[0ms\u001b[0m\u001b[0;34m]\u001b[0m\u001b[0;34m\u001b[0m\u001b[0;34m\u001b[0m\u001b[0m\n\u001b[0m",
            "\u001b[0;31mIndexError\u001b[0m: index 3 is out of bounds for axis 0 with size 3"
          ]
        }
      ]
    },
    {
      "cell_type": "code",
      "source": [
        "q[tuple(s)]"
      ],
      "metadata": {
        "colab": {
          "base_uri": "https://localhost:8080/"
        },
        "id": "LXB91AHiXzr9",
        "outputId": "de3f4fd0-060e-476c-dba7-5e523b83e5c4"
      },
      "execution_count": null,
      "outputs": [
        {
          "output_type": "execute_result",
          "data": {
            "text/plain": [
              "array([[ 2,  5],\n",
              "       [ 7, 11]])"
            ]
          },
          "metadata": {},
          "execution_count": 182
        }
      ]
    },
    {
      "cell_type": "code",
      "source": [
        "time = np.linspace(20, 145, 5)  # time scale"
      ],
      "metadata": {
        "id": "ENU9lwGVX5w3"
      },
      "execution_count": null,
      "outputs": []
    },
    {
      "cell_type": "code",
      "source": [
        "data = np.sin(np.arange(20)).reshape(5, 4)  # 4 time-dependent series"
      ],
      "metadata": {
        "id": "eel9iptFYSqy"
      },
      "execution_count": null,
      "outputs": []
    },
    {
      "cell_type": "code",
      "source": [
        "time"
      ],
      "metadata": {
        "colab": {
          "base_uri": "https://localhost:8080/"
        },
        "id": "Fe7ZfvO9YVaA",
        "outputId": "a00ba623-2de8-40b9-efb9-83e3c1d0cf21"
      },
      "execution_count": null,
      "outputs": [
        {
          "output_type": "execute_result",
          "data": {
            "text/plain": [
              "array([ 20.  ,  51.25,  82.5 , 113.75, 145.  ])"
            ]
          },
          "metadata": {},
          "execution_count": 185
        }
      ]
    },
    {
      "cell_type": "code",
      "source": [
        "data"
      ],
      "metadata": {
        "colab": {
          "base_uri": "https://localhost:8080/"
        },
        "id": "UHDeOvR2YZVk",
        "outputId": "3e2d1e13-0c79-48ca-ef5e-c8100ca5e015"
      },
      "execution_count": null,
      "outputs": [
        {
          "output_type": "execute_result",
          "data": {
            "text/plain": [
              "array([[ 0.        ,  0.84147098,  0.90929743,  0.14112001],\n",
              "       [-0.7568025 , -0.95892427, -0.2794155 ,  0.6569866 ],\n",
              "       [ 0.98935825,  0.41211849, -0.54402111, -0.99999021],\n",
              "       [-0.53657292,  0.42016704,  0.99060736,  0.65028784],\n",
              "       [-0.28790332, -0.96139749, -0.75098725,  0.14987721]])"
            ]
          },
          "metadata": {},
          "execution_count": 186
        }
      ]
    },
    {
      "cell_type": "code",
      "source": [
        "ind = data.argmax(axis=0) # index dinxa of maximum value of the column ( as column is fixed)"
      ],
      "metadata": {
        "id": "QNLWLK0OYamQ"
      },
      "execution_count": null,
      "outputs": []
    },
    {
      "cell_type": "code",
      "source": [
        "ind"
      ],
      "metadata": {
        "colab": {
          "base_uri": "https://localhost:8080/"
        },
        "id": "02UbM1MGYc1s",
        "outputId": "4ac17b4d-022b-4d72-eaaa-df5332f197c3"
      },
      "execution_count": null,
      "outputs": [
        {
          "output_type": "execute_result",
          "data": {
            "text/plain": [
              "array([2, 0, 3, 1])"
            ]
          },
          "metadata": {},
          "execution_count": 188
        }
      ]
    },
    {
      "cell_type": "code",
      "source": [
        "# times corresponding to the maxima\n",
        "time_max = time[ind]\n"
      ],
      "metadata": {
        "id": "4CKOhfiyY473"
      },
      "execution_count": null,
      "outputs": []
    },
    {
      "cell_type": "code",
      "source": [
        "data_max = data[ind, range(data.shape[1])]  # => data[ind[0], 0], data[ind[1], 1]...\n"
      ],
      "metadata": {
        "id": "I8_19lTZcer8"
      },
      "execution_count": null,
      "outputs": []
    },
    {
      "cell_type": "code",
      "source": [
        "time_max"
      ],
      "metadata": {
        "colab": {
          "base_uri": "https://localhost:8080/"
        },
        "id": "O9lCpq58cgE7",
        "outputId": "8cd82119-b5a7-4d7b-eda9-173d0ff0bad1"
      },
      "execution_count": null,
      "outputs": [
        {
          "output_type": "execute_result",
          "data": {
            "text/plain": [
              "array([ 82.5 ,  20.  , 113.75,  51.25])"
            ]
          },
          "metadata": {},
          "execution_count": 191
        }
      ]
    },
    {
      "cell_type": "code",
      "source": [
        "data_max"
      ],
      "metadata": {
        "colab": {
          "base_uri": "https://localhost:8080/"
        },
        "id": "KMgYdIHMdSpH",
        "outputId": "12a9ba8a-0a63-4770-8c72-80ab2507ece9"
      },
      "execution_count": null,
      "outputs": [
        {
          "output_type": "execute_result",
          "data": {
            "text/plain": [
              "array([0.98935825, 0.84147098, 0.99060736, 0.6569866 ])"
            ]
          },
          "metadata": {},
          "execution_count": 192
        }
      ]
    },
    {
      "cell_type": "code",
      "source": [
        "\n",
        "np.all(data_max == data.max(axis=0))"
      ],
      "metadata": {
        "colab": {
          "base_uri": "https://localhost:8080/"
        },
        "id": "oNhrz6jWdVA_",
        "outputId": "defd46fc-00af-443c-e1b5-7dd5d4d38600"
      },
      "execution_count": null,
      "outputs": [
        {
          "output_type": "execute_result",
          "data": {
            "text/plain": [
              "np.True_"
            ]
          },
          "metadata": {},
          "execution_count": 193
        }
      ]
    },
    {
      "cell_type": "code",
      "source": [
        "import numpy as np"
      ],
      "metadata": {
        "id": "3eP3AWXddVzD"
      },
      "execution_count": 2,
      "outputs": []
    },
    {
      "cell_type": "code",
      "source": [
        "a = np.arange(5)\n",
        "a"
      ],
      "metadata": {
        "colab": {
          "base_uri": "https://localhost:8080/"
        },
        "id": "nbB1P6P-XamS",
        "outputId": "b531c9bb-d1d0-4acb-e950-a3d29b7d02c9"
      },
      "execution_count": 3,
      "outputs": [
        {
          "output_type": "execute_result",
          "data": {
            "text/plain": [
              "array([0, 1, 2, 3, 4])"
            ]
          },
          "metadata": {},
          "execution_count": 3
        }
      ]
    },
    {
      "cell_type": "code",
      "source": [
        "a[[0, 0, 2]] = [1, 2, 3]\n",
        "a"
      ],
      "metadata": {
        "colab": {
          "base_uri": "https://localhost:8080/"
        },
        "id": "sqdsO3S9Xfv4",
        "outputId": "efaed195-5056-4b0f-8496-87dd0dc1d81a"
      },
      "execution_count": 4,
      "outputs": [
        {
          "output_type": "execute_result",
          "data": {
            "text/plain": [
              "array([2, 1, 3, 3, 4])"
            ]
          },
          "metadata": {},
          "execution_count": 4
        }
      ]
    },
    {
      "cell_type": "code",
      "source": [
        "a[[0, 0, 2]] += 1\n",
        "a"
      ],
      "metadata": {
        "colab": {
          "base_uri": "https://localhost:8080/"
        },
        "id": "Z1QRP1CDX_GO",
        "outputId": "627bdc49-8c95-4eaf-e76e-f293fe32b81c"
      },
      "execution_count": 5,
      "outputs": [
        {
          "output_type": "execute_result",
          "data": {
            "text/plain": [
              "array([3, 1, 4, 3, 4])"
            ]
          },
          "metadata": {},
          "execution_count": 5
        }
      ]
    },
    {
      "cell_type": "code",
      "source": [
        "a = np.arange(12).reshape(3, 4)"
      ],
      "metadata": {
        "id": "CSdbq3jJYEAS"
      },
      "execution_count": 6,
      "outputs": []
    },
    {
      "cell_type": "code",
      "source": [
        "b = a > 4"
      ],
      "metadata": {
        "id": "BxbruvWyYHUS"
      },
      "execution_count": 7,
      "outputs": []
    },
    {
      "cell_type": "code",
      "source": [
        "b"
      ],
      "metadata": {
        "colab": {
          "base_uri": "https://localhost:8080/"
        },
        "id": "5Cqei5bfYI0V",
        "outputId": "186a5683-ee47-438f-ddb9-2a1ccd05106e"
      },
      "execution_count": 8,
      "outputs": [
        {
          "output_type": "execute_result",
          "data": {
            "text/plain": [
              "array([[False, False, False, False],\n",
              "       [False,  True,  True,  True],\n",
              "       [ True,  True,  True,  True]])"
            ]
          },
          "metadata": {},
          "execution_count": 8
        }
      ]
    },
    {
      "cell_type": "code",
      "source": [
        "a[b]"
      ],
      "metadata": {
        "colab": {
          "base_uri": "https://localhost:8080/"
        },
        "id": "8pe1L-TuYKCo",
        "outputId": "820519fd-4584-4efb-8d4d-7e7e7f37eeff"
      },
      "execution_count": 9,
      "outputs": [
        {
          "output_type": "execute_result",
          "data": {
            "text/plain": [
              "array([ 5,  6,  7,  8,  9, 10, 11])"
            ]
          },
          "metadata": {},
          "execution_count": 9
        }
      ]
    },
    {
      "cell_type": "code",
      "source": [
        "import numpy as np\n",
        "import matplotlib.pyplot as plt"
      ],
      "metadata": {
        "id": "brEDhBe-YMOW"
      },
      "execution_count": 10,
      "outputs": []
    },
    {
      "cell_type": "code",
      "source": [
        "def mandelbrot(h, w, maxit=20, r=2):\n",
        "    \"\"\"Returns an image of the Mandelbrot fractal of size (h,w).\"\"\"\n",
        "    x = np.linspace(-2.5, 1.5, 4*h+1)\n",
        "    y = np.linspace(-1.5, 1.5, 3*w+1)\n",
        "    A, B = np.meshgrid(x, y)\n",
        "    C = A + B*1j\n",
        "    z = np.zeros_like(C)\n",
        "    divtime = maxit + np.zeros(z.shape, dtype=int)\n",
        "    for i in range(maxit):\n",
        "        z = z**2 + C\n",
        "        diverge = abs(z) > r                    # who is diverging\n",
        "        div_now = diverge & (divtime == maxit)  # who is diverging now\n",
        "        divtime[div_now] = i                    # note when\n",
        "        z[diverge] = r                          # avoid diverging too much\n",
        "    return divtime\n",
        "plt.clf()"
      ],
      "metadata": {
        "colab": {
          "base_uri": "https://localhost:8080/",
          "height": 34
        },
        "id": "nThcHQelYP6Z",
        "outputId": "0e5415da-f1ee-4a3c-cc1b-af8b39c5f362"
      },
      "execution_count": 11,
      "outputs": [
        {
          "output_type": "display_data",
          "data": {
            "text/plain": [
              "<Figure size 640x480 with 0 Axes>"
            ]
          },
          "metadata": {}
        }
      ]
    },
    {
      "cell_type": "code",
      "source": [
        "plt.imshow(mandelbrot(400, 400))"
      ],
      "metadata": {
        "colab": {
          "base_uri": "https://localhost:8080/",
          "height": 452
        },
        "id": "wtxZsYgFYWDb",
        "outputId": "cff6138c-cecf-4858-b8e1-5e9f2999dbd2"
      },
      "execution_count": 12,
      "outputs": [
        {
          "output_type": "execute_result",
          "data": {
            "text/plain": [
              "<matplotlib.image.AxesImage at 0x7dce031a9c40>"
            ]
          },
          "metadata": {},
          "execution_count": 12
        },
        {
          "output_type": "display_data",
          "data": {
            "text/plain": [
              "<Figure size 640x480 with 1 Axes>"
            ],
            "image/png": "[encoded data removed]"
          },
          "metadata": {}
        }
      ]
    },
    {
      "cell_type": "code",
      "source": [
        "a = np.arange(12).reshape(3, 4)"
      ],
      "metadata": {
        "id": "D2_B7jb3YXxV"
      },
      "execution_count": 13,
      "outputs": []
    },
    {
      "cell_type": "code",
      "source": [
        "b1 = np.array([False, True, True])\n",
        "b2 = np.array([True, False, True, False])   # first dim selection"
      ],
      "metadata": {
        "id": "RVkoU4cYYpMw"
      },
      "execution_count": 21,
      "outputs": []
    },
    {
      "cell_type": "code",
      "source": [
        "a[b1, :]                                   # selecting rows"
      ],
      "metadata": {
        "colab": {
          "base_uri": "https://localhost:8080/"
        },
        "id": "oGGmVlQzYq7x",
        "outputId": "daf37341-9f57-4746-be41-b5a22d7102c6"
      },
      "execution_count": 15,
      "outputs": [
        {
          "output_type": "execute_result",
          "data": {
            "text/plain": [
              "array([[ 4,  5,  6,  7],\n",
              "       [ 8,  9, 10, 11]])"
            ]
          },
          "metadata": {},
          "execution_count": 15
        }
      ]
    },
    {
      "cell_type": "code",
      "source": [
        "a[b1]                                      # same thing"
      ],
      "metadata": {
        "colab": {
          "base_uri": "https://localhost:8080/"
        },
        "id": "khG5nd1xYtud",
        "outputId": "b79af838-19af-4f05-d554-71fd9d6b4476"
      },
      "execution_count": 16,
      "outputs": [
        {
          "output_type": "execute_result",
          "data": {
            "text/plain": [
              "array([[ 4,  5,  6,  7],\n",
              "       [ 8,  9, 10, 11]])"
            ]
          },
          "metadata": {},
          "execution_count": 16
        }
      ]
    },
    {
      "cell_type": "code",
      "source": [
        "a[:, b2]                                   # selecting columns"
      ],
      "metadata": {
        "colab": {
          "base_uri": "https://localhost:8080/"
        },
        "id": "DpHCMXwdYvwh",
        "outputId": "8892d04e-a5ec-4a53-d8e0-466ce14a770e"
      },
      "execution_count": 23,
      "outputs": [
        {
          "output_type": "execute_result",
          "data": {
            "text/plain": [
              "array([[ 0,  2],\n",
              "       [ 4,  6],\n",
              "       [ 8, 10]])"
            ]
          },
          "metadata": {},
          "execution_count": 23
        }
      ]
    },
    {
      "cell_type": "code",
      "source": [
        "a[b1, b2]                                  # a weird thing to do"
      ],
      "metadata": {
        "colab": {
          "base_uri": "https://localhost:8080/"
        },
        "id": "UPK2kx1YYyI0",
        "outputId": "243844f6-2b94-4b2d-ce0d-4802fd46e1ab"
      },
      "execution_count": 24,
      "outputs": [
        {
          "output_type": "execute_result",
          "data": {
            "text/plain": [
              "array([ 4, 10])"
            ]
          },
          "metadata": {},
          "execution_count": 24
        }
      ]
    },
    {
      "cell_type": "code",
      "source": [
        "a = np.array([2, 3, 4, 5])"
      ],
      "metadata": {
        "id": "HqEoGKghY0dX"
      },
      "execution_count": 25,
      "outputs": []
    },
    {
      "cell_type": "code",
      "source": [
        "b = np.array([8, 5, 4])"
      ],
      "metadata": {
        "id": "P9NdNZlrZGeg"
      },
      "execution_count": 26,
      "outputs": []
    },
    {
      "cell_type": "code",
      "source": [
        "c = np.array([5, 4, 6, 8, 3])"
      ],
      "metadata": {
        "id": "hzpLUqXpZHzg"
      },
      "execution_count": 27,
      "outputs": []
    },
    {
      "cell_type": "code",
      "source": [
        "ax, bx, cx = np.ix_(a, b, c)"
      ],
      "metadata": {
        "id": "kQp7QSpBZJYq"
      },
      "execution_count": 28,
      "outputs": []
    },
    {
      "cell_type": "code",
      "source": [
        "ax"
      ],
      "metadata": {
        "colab": {
          "base_uri": "https://localhost:8080/"
        },
        "id": "rCKE1vCGZK7_",
        "outputId": "e2144c4d-5b2b-421e-ebc7-c62c49970118"
      },
      "execution_count": 29,
      "outputs": [
        {
          "output_type": "execute_result",
          "data": {
            "text/plain": [
              "array([[[2]],\n",
              "\n",
              "       [[3]],\n",
              "\n",
              "       [[4]],\n",
              "\n",
              "       [[5]]])"
            ]
          },
          "metadata": {},
          "execution_count": 29
        }
      ]
    },
    {
      "cell_type": "code",
      "source": [
        "\n",
        "bx"
      ],
      "metadata": {
        "colab": {
          "base_uri": "https://localhost:8080/"
        },
        "id": "fsJx-QISZNr9",
        "outputId": "8b3b8a86-350f-4644-e00a-ba6c64960e5d"
      },
      "execution_count": 30,
      "outputs": [
        {
          "output_type": "execute_result",
          "data": {
            "text/plain": [
              "array([[[8],\n",
              "        [5],\n",
              "        [4]]])"
            ]
          },
          "metadata": {},
          "execution_count": 30
        }
      ]
    },
    {
      "cell_type": "code",
      "source": [
        "cx"
      ],
      "metadata": {
        "colab": {
          "base_uri": "https://localhost:8080/"
        },
        "id": "GUsJoM91ZPAy",
        "outputId": "0dff3220-cad7-42a1-cd3a-b4c1d8ca6522"
      },
      "execution_count": 31,
      "outputs": [
        {
          "output_type": "execute_result",
          "data": {
            "text/plain": [
              "array([[[5, 4, 6, 8, 3]]])"
            ]
          },
          "metadata": {},
          "execution_count": 31
        }
      ]
    },
    {
      "cell_type": "code",
      "source": [
        "ax.shape, bx.shape, cx.shape"
      ],
      "metadata": {
        "colab": {
          "base_uri": "https://localhost:8080/"
        },
        "id": "nOHs5zu5ZQTl",
        "outputId": "a179bdcf-5839-4bd6-c8e5-22d55c2d6934"
      },
      "execution_count": 32,
      "outputs": [
        {
          "output_type": "execute_result",
          "data": {
            "text/plain": [
              "((4, 1, 1), (1, 3, 1), (1, 1, 5))"
            ]
          },
          "metadata": {},
          "execution_count": 32
        }
      ]
    },
    {
      "cell_type": "code",
      "source": [
        "result = ax + bx * cx"
      ],
      "metadata": {
        "id": "WL7k_YlfZScU"
      },
      "execution_count": 33,
      "outputs": []
    },
    {
      "cell_type": "code",
      "source": [
        "result"
      ],
      "metadata": {
        "colab": {
          "base_uri": "https://localhost:8080/"
        },
        "id": "1SzOL_ApZT4X",
        "outputId": "36344e10-b069-4064-81dc-11bb75ed11cb"
      },
      "execution_count": 34,
      "outputs": [
        {
          "output_type": "execute_result",
          "data": {
            "text/plain": [
              "array([[[42, 34, 50, 66, 26],\n",
              "        [27, 22, 32, 42, 17],\n",
              "        [22, 18, 26, 34, 14]],\n",
              "\n",
              "       [[43, 35, 51, 67, 27],\n",
              "        [28, 23, 33, 43, 18],\n",
              "        [23, 19, 27, 35, 15]],\n",
              "\n",
              "       [[44, 36, 52, 68, 28],\n",
              "        [29, 24, 34, 44, 19],\n",
              "        [24, 20, 28, 36, 16]],\n",
              "\n",
              "       [[45, 37, 53, 69, 29],\n",
              "        [30, 25, 35, 45, 20],\n",
              "        [25, 21, 29, 37, 17]]])"
            ]
          },
          "metadata": {},
          "execution_count": 34
        }
      ]
    },
    {
      "cell_type": "code",
      "source": [
        "result[3, 2, 4]"
      ],
      "metadata": {
        "colab": {
          "base_uri": "https://localhost:8080/"
        },
        "id": "tX2sOcSyZVSw",
        "outputId": "fd0174f7-72fa-40e0-d3ee-a5b4aa24df8b"
      },
      "execution_count": 35,
      "outputs": [
        {
          "output_type": "execute_result",
          "data": {
            "text/plain": [
              "np.int64(17)"
            ]
          },
          "metadata": {},
          "execution_count": 35
        }
      ]
    },
    {
      "cell_type": "code",
      "source": [
        "a[3] + b[2] * c[4]"
      ],
      "metadata": {
        "colab": {
          "base_uri": "https://localhost:8080/"
        },
        "id": "29Y85otHZYie",
        "outputId": "b91022d8-6237-4213-cf98-848c107b442d"
      },
      "execution_count": 36,
      "outputs": [
        {
          "output_type": "execute_result",
          "data": {
            "text/plain": [
              "np.int64(17)"
            ]
          },
          "metadata": {},
          "execution_count": 36
        }
      ]
    },
    {
      "cell_type": "code",
      "source": [
        "def ufunc_reduce(ufct, *vectors):\n",
        "   vs = np.ix_(*vectors)\n",
        "   r = ufct.identity\n",
        "   for v in vs:\n",
        "       r = ufct(r, v)\n",
        "   return r"
      ],
      "metadata": {
        "id": "qeLfIyzeZZro"
      },
      "execution_count": 37,
      "outputs": []
    },
    {
      "cell_type": "code",
      "source": [
        "ufunc_reduce(np.add, a, b, c)"
      ],
      "metadata": {
        "colab": {
          "base_uri": "https://localhost:8080/"
        },
        "id": "b0I-8mLSZd1A",
        "outputId": "41f56929-f5a3-4501-fff1-749ee1f4b175"
      },
      "execution_count": 38,
      "outputs": [
        {
          "output_type": "execute_result",
          "data": {
            "text/plain": [
              "array([[[15, 14, 16, 18, 13],\n",
              "        [12, 11, 13, 15, 10],\n",
              "        [11, 10, 12, 14,  9]],\n",
              "\n",
              "       [[16, 15, 17, 19, 14],\n",
              "        [13, 12, 14, 16, 11],\n",
              "        [12, 11, 13, 15, 10]],\n",
              "\n",
              "       [[17, 16, 18, 20, 15],\n",
              "        [14, 13, 15, 17, 12],\n",
              "        [13, 12, 14, 16, 11]],\n",
              "\n",
              "       [[18, 17, 19, 21, 16],\n",
              "        [15, 14, 16, 18, 13],\n",
              "        [14, 13, 15, 17, 12]]])"
            ]
          },
          "metadata": {},
          "execution_count": 38
        }
      ]
    },
    {
      "cell_type": "code",
      "source": [
        "a = np.arange(30)\n",
        "b = a.reshape((2, -1, 3))  # -1 means \"whatever is needed\"\n"
      ],
      "metadata": {
        "id": "2uYjvaErZpoJ"
      },
      "execution_count": 39,
      "outputs": []
    },
    {
      "cell_type": "code",
      "source": [
        "b.shape\n"
      ],
      "metadata": {
        "colab": {
          "base_uri": "https://localhost:8080/"
        },
        "id": "vb_ATnjzZyms",
        "outputId": "59c9b60c-5f91-4b64-f560-60a942e546f6"
      },
      "execution_count": 40,
      "outputs": [
        {
          "output_type": "execute_result",
          "data": {
            "text/plain": [
              "(2, 5, 3)"
            ]
          },
          "metadata": {},
          "execution_count": 40
        }
      ]
    },
    {
      "cell_type": "code",
      "source": [
        "b"
      ],
      "metadata": {
        "colab": {
          "base_uri": "https://localhost:8080/"
        },
        "id": "pV2rSsueZzK6",
        "outputId": "2257c37c-c06c-49da-e66b-53133695327f"
      },
      "execution_count": 41,
      "outputs": [
        {
          "output_type": "execute_result",
          "data": {
            "text/plain": [
              "array([[[ 0,  1,  2],\n",
              "        [ 3,  4,  5],\n",
              "        [ 6,  7,  8],\n",
              "        [ 9, 10, 11],\n",
              "        [12, 13, 14]],\n",
              "\n",
              "       [[15, 16, 17],\n",
              "        [18, 19, 20],\n",
              "        [21, 22, 23],\n",
              "        [24, 25, 26],\n",
              "        [27, 28, 29]]])"
            ]
          },
          "metadata": {},
          "execution_count": 41
        }
      ]
    },
    {
      "cell_type": "code",
      "source": [
        "x = np.arange(0, 10, 2)\n",
        "y = np.arange(5)\n"
      ],
      "metadata": {
        "id": "aTz_S5xwZzlF"
      },
      "execution_count": 42,
      "outputs": []
    },
    {
      "cell_type": "code",
      "source": [
        "m = np.vstack([x, y])\n",
        "m\n"
      ],
      "metadata": {
        "colab": {
          "base_uri": "https://localhost:8080/"
        },
        "id": "U1Rrt243Z3l9",
        "outputId": "38bed46b-ac23-434b-a231-9871e01a9b50"
      },
      "execution_count": 43,
      "outputs": [
        {
          "output_type": "execute_result",
          "data": {
            "text/plain": [
              "array([[0, 2, 4, 6, 8],\n",
              "       [0, 1, 2, 3, 4]])"
            ]
          },
          "metadata": {},
          "execution_count": 43
        }
      ]
    },
    {
      "cell_type": "code",
      "source": [
        "xy = np.hstack([x, y])\n",
        "xy"
      ],
      "metadata": {
        "colab": {
          "base_uri": "https://localhost:8080/"
        },
        "id": "B7sPESH7Z4ov",
        "outputId": "0a928890-f558-4a8f-d729-9ba625724e6c"
      },
      "execution_count": 44,
      "outputs": [
        {
          "output_type": "execute_result",
          "data": {
            "text/plain": [
              "array([0, 2, 4, 6, 8, 0, 1, 2, 3, 4])"
            ]
          },
          "metadata": {},
          "execution_count": 44
        }
      ]
    },
    {
      "cell_type": "code",
      "source": [
        "import numpy as np\n",
        "rg = np.random.default_rng(1)\n",
        "import matplotlib.pyplot as plt\n",
        "# Build a vector of 10000 normal deviates with variance 0.5^2 and mean 2\n",
        "mu, sigma = 2, 0.5\n",
        "v = rg.normal(mu, sigma, 10000)\n",
        "# Plot a normalized histogram with 50 bins\n",
        "plt.hist(v, bins=50, density=True)       # matplotlib version (plot)\n",
        "# Compute the histogram with numpy and then plot it\n",
        "(n, bins) = np.histogram(v, bins=50, density=True)  # NumPy version (no plot)\n",
        "plt.plot(.5 * (bins[1:] + bins[:-1]), n)"
      ],
      "metadata": {
        "colab": {
          "base_uri": "https://localhost:8080/",
          "height": 447
        },
        "id": "AM809QoTZ5Kw",
        "outputId": "951423b2-0bc5-4dab-804c-6e312abb9da8"
      },
      "execution_count": 45,
      "outputs": [
        {
          "output_type": "execute_result",
          "data": {
            "text/plain": [
              "[<matplotlib.lines.Line2D at 0x7dcde3c73500>]"
            ]
          },
          "metadata": {},
          "execution_count": 45
        },
        {
          "output_type": "display_data",
          "data": {
            "text/plain": [
              "<Figure size 640x480 with 1 Axes>"
            ],
            "image/png": "[encoded data removed]"
          },
          "metadata": {}
        }
      ]
    },
    {
      "cell_type": "code",
      "source": [],
      "metadata": {
        "id": "lgqjkLCPZ-MI"
      },
      "execution_count": null,
      "outputs": []
    }
  ]
}